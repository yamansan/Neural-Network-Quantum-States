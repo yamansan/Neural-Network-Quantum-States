{
 "cells": [
  {
   "cell_type": "code",
   "execution_count": 1,
   "id": "6d096d0a-8ca9-424f-a8f9-b9433e7d9f25",
   "metadata": {},
   "outputs": [],
   "source": [
    "import torch\n",
    "import torch.nn as nn\n",
    "import torch.optim as optim\n",
    "import torch.nn.functional as F\n",
    "import numpy as np\n",
    "import matplotlib.pyplot as plt"
   ]
  },
  {
   "cell_type": "code",
   "execution_count": 2,
   "id": "6ec8bb66-d295-4777-aaa9-aeb7109306bc",
   "metadata": {},
   "outputs": [
    {
     "name": "stdout",
     "output_type": "stream",
     "text": [
      "Using device: cuda\n"
     ]
    }
   ],
   "source": [
    "device = torch.device(\"cuda\" if torch.cuda.is_available() else \"cpu\")\n",
    "print(f\"Using device: {device}\")"
   ]
  },
  {
   "cell_type": "code",
   "execution_count": 3,
   "id": "f337d8fa-da6f-4872-8aa3-fa112456b26c",
   "metadata": {},
   "outputs": [],
   "source": [
    "class NNQS(nn.Module):\n",
    "    def __init__(self):\n",
    "        super(NNQS, self).__init__()\n",
    "        self.fc1_u = nn.Linear(1, 50)\n",
    "        self.fc2_u = nn.Linear(50, 50)\n",
    "        self.fc3_u = nn.Linear(50, 1)\n",
    "        #self.fc4_u = nn.Linear(50, 1)\n",
    "        #self.fc5_u = nn.Linear(20, 20)\n",
    "        #self.fc6_u = nn.Linear(20, 1)\n",
    "\n",
    "    def forward(self, x):\n",
    "        u = F.softplus(self.fc1_u(x))\n",
    "        u = F.softplus(self.fc2_u(u))\n",
    "        #u = F.softplus(self.fc3_u(u))\n",
    "        #u = torch.tanh(self.fc4_u(u))\n",
    "        #u = torch.tanh(self.fc5_u(u))\n",
    "        u = self.fc3_u(u)\n",
    "        return u\n",
    "\n",
    "# Initialize model\n",
    "model = NNQS().to(device)"
   ]
  },
  {
   "cell_type": "code",
   "execution_count": 79,
   "id": "b19794c9-1b7e-425f-a69d-bdcebb60123d",
   "metadata": {},
   "outputs": [
    {
     "name": "stdout",
     "output_type": "stream",
     "text": [
      "Model parameters loaded successfully.\n"
     ]
    },
    {
     "name": "stderr",
     "output_type": "stream",
     "text": [
      "C:\\Users\\yaman\\AppData\\Local\\Temp\\ipykernel_30176\\2781409247.py:6: FutureWarning: You are using `torch.load` with `weights_only=False` (the current default value), which uses the default pickle module implicitly. It is possible to construct malicious pickle data which will execute arbitrary code during unpickling (See https://github.com/pytorch/pytorch/blob/main/SECURITY.md#untrusted-models for more details). In a future release, the default value for `weights_only` will be flipped to `True`. This limits the functions that could be executed during unpickling. Arbitrary objects will no longer be allowed to be loaded via this mode unless they are explicitly allowlisted by the user via `torch.serialization.add_safe_globals`. We recommend you start setting `weights_only=True` for any use case where you don't have full control of the loaded file. Please open an issue on GitHub for any issues related to this experimental feature.\n",
      "  model.load_state_dict(torch.load(model_save_path))\n"
     ]
    }
   ],
   "source": [
    "# Initialize the model\n",
    "model = NNQS().to(device)\n",
    "model_save_path = \"nnqs_ground_state.pth\"\n",
    "\n",
    "# Load the state dictionary\n",
    "model.load_state_dict(torch.load(model_save_path))\n",
    "\n",
    "# Set the model to evaluation mode (optional, for inference)\n",
    "model.eval()\n",
    "\n",
    "print(\"Model parameters loaded successfully.\")\n"
   ]
  },
  {
   "cell_type": "code",
   "execution_count": 7,
   "id": "b3eaa272-dc76-454c-8323-b9765801f79f",
   "metadata": {},
   "outputs": [],
   "source": [
    "# Ensure CUDA context initialization\n",
    "if device.type == 'cuda':\n",
    "    _ = torch.zeros(1, device=device)  # Force CUDA context initialization"
   ]
  },
  {
   "cell_type": "code",
   "execution_count": 9,
   "id": "ba788d6b-25c7-4ad6-9e93-a6b45c4c91d3",
   "metadata": {},
   "outputs": [],
   "source": [
    "x_min = -10.0\n",
    "x_max = 10.0\n",
    "N = 20001\n",
    "x = torch.linspace(x_min,x_max,N).to(device)\n",
    "x.requires_grad = True"
   ]
  },
  {
   "cell_type": "code",
   "execution_count": 11,
   "id": "f525278b-599d-4521-889f-1ce96e0bcfa7",
   "metadata": {},
   "outputs": [
    {
     "data": {
      "text/plain": [
       "tensor([[-10.0000],\n",
       "        [ -9.9990],\n",
       "        [ -9.9980],\n",
       "        ...,\n",
       "        [  9.9980],\n",
       "        [  9.9990],\n",
       "        [ 10.0000]], device='cuda:0', grad_fn=<ViewBackward0>)"
      ]
     },
     "execution_count": 11,
     "metadata": {},
     "output_type": "execute_result"
    }
   ],
   "source": [
    "#Converting x into N x 1 tensor.\n",
    "x = x.reshape(-1,1)\n",
    "x"
   ]
  },
  {
   "cell_type": "code",
   "execution_count": 13,
   "id": "96433a5f-a70c-442a-a8aa-d62a6adb6b2f",
   "metadata": {},
   "outputs": [
    {
     "data": {
      "text/plain": [
       "0.0010004043579101562"
      ]
     },
     "execution_count": 13,
     "metadata": {},
     "output_type": "execute_result"
    }
   ],
   "source": [
    "dx = x[1]-x[0]\n",
    "dx = dx.item()\n",
    "dx"
   ]
  },
  {
   "cell_type": "code",
   "execution_count": 15,
   "id": "b0d3219b-ec30-43ef-bc66-7cd1e8728766",
   "metadata": {
    "scrolled": true
   },
   "outputs": [
    {
     "data": {
      "text/plain": [
       "tensor([[0.0739],\n",
       "        [0.0739],\n",
       "        [0.0739],\n",
       "        ...,\n",
       "        [0.0163],\n",
       "        [0.0163],\n",
       "        [0.0164]], device='cuda:0', grad_fn=<AddmmBackward0>)"
      ]
     },
     "execution_count": 15,
     "metadata": {},
     "output_type": "execute_result"
    }
   ],
   "source": [
    "model(x)"
   ]
  },
  {
   "cell_type": "code",
   "execution_count": 17,
   "id": "cfe5ed12-a233-4fd7-ad97-b6ea723225d3",
   "metadata": {},
   "outputs": [],
   "source": [
    "w = 2.0\n",
    "def HpsiH(x,model):\n",
    "    u = model(x)\n",
    "    u1 = u.reshape(-1)\n",
    "    grads = torch.autograd.grad(u, x, grad_outputs=torch.ones_like(u), create_graph=True)[0]\n",
    "    u_x = grads[:,0]\n",
    "    u_x_grads = torch.autograd.grad(grads, x, grad_outputs=torch.ones_like(u), create_graph=True)[0]\n",
    "    u_xx = u_x_grads[:,0]\n",
    "    x1 = x.reshape(-1)\n",
    "    return (torch.sum((-u_xx*u1+(w**2)*(x1**2)*(u1**2)))*dx)/(torch.sum(u1**2)*dx)"
   ]
  },
  {
   "cell_type": "code",
   "execution_count": 91,
   "id": "0c198e0a-e93f-43df-b30d-1c7b5d0df272",
   "metadata": {},
   "outputs": [],
   "source": [
    "def normalization(x,model):\n",
    "    u = model(x)\n",
    "    return 1000*((torch.sum(u**2)*dx- torch.tensor(1.0))**2)"
   ]
  },
  {
   "cell_type": "code",
   "execution_count": 19,
   "id": "7552a416-3703-47e9-be27-f4e977e882c8",
   "metadata": {},
   "outputs": [],
   "source": [
    "eta = 0.001\n",
    "optimizer = optim.Adam(list(model.parameters()), lr=eta)"
   ]
  },
  {
   "cell_type": "code",
   "execution_count": 21,
   "id": "9e7bb4fb-a49b-412d-82d3-305f3417f429",
   "metadata": {},
   "outputs": [
    {
     "name": "stdout",
     "output_type": "stream",
     "text": [
      "epochs:100 , Loss:30.111391067504883\n",
      "epochs:200 , Loss:10.034377098083496\n",
      "epochs:300 , Loss:8.654067993164062\n",
      "epochs:400 , Loss:6.586039066314697\n",
      "epochs:500 , Loss:5.478845596313477\n",
      "epochs:600 , Loss:3.935518741607666\n",
      "epochs:700 , Loss:3.297374963760376\n",
      "epochs:800 , Loss:3.1358213424682617\n",
      "epochs:900 , Loss:3.395414352416992\n",
      "epochs:1000 , Loss:2.6318538188934326\n",
      "epochs:1100 , Loss:2.7369256019592285\n",
      "epochs:1200 , Loss:2.439046859741211\n",
      "epochs:1300 , Loss:2.494985580444336\n",
      "epochs:1400 , Loss:2.3097732067108154\n",
      "epochs:1500 , Loss:2.385460376739502\n",
      "epochs:1600 , Loss:2.2207791805267334\n",
      "epochs:1700 , Loss:2.287297010421753\n",
      "epochs:1800 , Loss:2.1535346508026123\n",
      "epochs:1900 , Loss:2.3314626216888428\n",
      "epochs:2000 , Loss:2.128319263458252\n",
      "epochs:2100 , Loss:2.128164052963257\n",
      "epochs:2200 , Loss:2.1324851512908936\n",
      "epochs:2300 , Loss:2.061978340148926\n",
      "epochs:2400 , Loss:2.267895460128784\n",
      "epochs:2500 , Loss:2.078324556350708\n",
      "epochs:2600 , Loss:2.0353095531463623\n",
      "epochs:2700 , Loss:2.3240013122558594\n",
      "epochs:2800 , Loss:2.0574305057525635\n",
      "epochs:2900 , Loss:2.022277355194092\n",
      "epochs:3000 , Loss:2.012523889541626\n",
      "epochs:3100 , Loss:2.0598361492156982\n",
      "epochs:3200 , Loss:2.0177769660949707\n",
      "epochs:3300 , Loss:2.0084242820739746\n",
      "epochs:3400 , Loss:2.120039224624634\n",
      "epochs:3500 , Loss:2.020968198776245\n",
      "epochs:3600 , Loss:2.0082805156707764\n",
      "epochs:3700 , Loss:2.0048646926879883\n",
      "epochs:3800 , Loss:2.0286166667938232\n",
      "epochs:3900 , Loss:2.008151054382324\n",
      "epochs:4000 , Loss:2.004791498184204\n",
      "epochs:4100 , Loss:2.037069082260132\n",
      "epochs:4200 , Loss:2.008385419845581\n",
      "epochs:4300 , Loss:2.00490665435791\n",
      "epochs:4400 , Loss:2.046067714691162\n",
      "epochs:4500 , Loss:2.0088608264923096\n",
      "epochs:4600 , Loss:2.005094289779663\n",
      "epochs:4700 , Loss:2.1796538829803467\n",
      "epochs:4800 , Loss:2.009207010269165\n",
      "epochs:4900 , Loss:2.0052804946899414\n",
      "epochs:5000 , Loss:2.987335205078125\n",
      "epochs:5100 , Loss:2.008678436279297\n",
      "epochs:5200 , Loss:2.0053632259368896\n",
      "epochs:5300 , Loss:2.0859224796295166\n",
      "epochs:5400 , Loss:2.007345676422119\n",
      "epochs:5500 , Loss:2.005445957183838\n",
      "epochs:5600 , Loss:2.0352349281311035\n",
      "epochs:5700 , Loss:2.0065360069274902\n",
      "epochs:5800 , Loss:2.005587100982666\n",
      "epochs:5900 , Loss:2.0205259323120117\n",
      "epochs:6000 , Loss:2.0063605308532715\n",
      "epochs:6100 , Loss:2.0058248043060303\n",
      "epochs:6200 , Loss:2.0106444358825684\n",
      "epochs:6300 , Loss:2.0062355995178223\n",
      "epochs:6400 , Loss:2.131293773651123\n",
      "epochs:6500 , Loss:2.0070836544036865\n",
      "epochs:6600 , Loss:2.006312847137451\n",
      "epochs:6700 , Loss:2.0172126293182373\n",
      "epochs:6800 , Loss:2.0066518783569336\n",
      "epochs:6900 , Loss:2.2365405559539795\n",
      "epochs:7000 , Loss:2.007093667984009\n",
      "epochs:7100 , Loss:2.006519317626953\n",
      "epochs:7200 , Loss:2.0074667930603027\n",
      "epochs:7300 , Loss:2.0078344345092773\n"
     ]
    },
    {
     "ename": "KeyboardInterrupt",
     "evalue": "",
     "output_type": "error",
     "traceback": [
      "\u001b[1;31m---------------------------------------------------------------------------\u001b[0m",
      "\u001b[1;31mKeyboardInterrupt\u001b[0m                         Traceback (most recent call last)",
      "Cell \u001b[1;32mIn[21], line 8\u001b[0m\n\u001b[0;32m      5\u001b[0m L_total \u001b[38;5;241m=\u001b[39m E_loss \u001b[38;5;66;03m#+ norm_loss\u001b[39;00m\n\u001b[0;32m      7\u001b[0m \u001b[38;5;66;03m# Step 3: Backpropagate to compute gradients\u001b[39;00m\n\u001b[1;32m----> 8\u001b[0m L_total\u001b[38;5;241m.\u001b[39mbackward()\n\u001b[0;32m     10\u001b[0m \u001b[38;5;66;03m# Step 4: Perform the gradient descent step\u001b[39;00m\n\u001b[0;32m     11\u001b[0m optimizer\u001b[38;5;241m.\u001b[39mstep()\n",
      "File \u001b[1;32m~\\anaconda3\\Lib\\site-packages\\torch\\_tensor.py:521\u001b[0m, in \u001b[0;36mTensor.backward\u001b[1;34m(self, gradient, retain_graph, create_graph, inputs)\u001b[0m\n\u001b[0;32m    511\u001b[0m \u001b[38;5;28;01mif\u001b[39;00m has_torch_function_unary(\u001b[38;5;28mself\u001b[39m):\n\u001b[0;32m    512\u001b[0m     \u001b[38;5;28;01mreturn\u001b[39;00m handle_torch_function(\n\u001b[0;32m    513\u001b[0m         Tensor\u001b[38;5;241m.\u001b[39mbackward,\n\u001b[0;32m    514\u001b[0m         (\u001b[38;5;28mself\u001b[39m,),\n\u001b[1;32m   (...)\u001b[0m\n\u001b[0;32m    519\u001b[0m         inputs\u001b[38;5;241m=\u001b[39minputs,\n\u001b[0;32m    520\u001b[0m     )\n\u001b[1;32m--> 521\u001b[0m torch\u001b[38;5;241m.\u001b[39mautograd\u001b[38;5;241m.\u001b[39mbackward(\n\u001b[0;32m    522\u001b[0m     \u001b[38;5;28mself\u001b[39m, gradient, retain_graph, create_graph, inputs\u001b[38;5;241m=\u001b[39minputs\n\u001b[0;32m    523\u001b[0m )\n",
      "File \u001b[1;32m~\\anaconda3\\Lib\\site-packages\\torch\\autograd\\__init__.py:289\u001b[0m, in \u001b[0;36mbackward\u001b[1;34m(tensors, grad_tensors, retain_graph, create_graph, grad_variables, inputs)\u001b[0m\n\u001b[0;32m    284\u001b[0m     retain_graph \u001b[38;5;241m=\u001b[39m create_graph\n\u001b[0;32m    286\u001b[0m \u001b[38;5;66;03m# The reason we repeat the same comment below is that\u001b[39;00m\n\u001b[0;32m    287\u001b[0m \u001b[38;5;66;03m# some Python versions print out the first line of a multi-line function\u001b[39;00m\n\u001b[0;32m    288\u001b[0m \u001b[38;5;66;03m# calls in the traceback and some print out the last line\u001b[39;00m\n\u001b[1;32m--> 289\u001b[0m _engine_run_backward(\n\u001b[0;32m    290\u001b[0m     tensors,\n\u001b[0;32m    291\u001b[0m     grad_tensors_,\n\u001b[0;32m    292\u001b[0m     retain_graph,\n\u001b[0;32m    293\u001b[0m     create_graph,\n\u001b[0;32m    294\u001b[0m     inputs,\n\u001b[0;32m    295\u001b[0m     allow_unreachable\u001b[38;5;241m=\u001b[39m\u001b[38;5;28;01mTrue\u001b[39;00m,\n\u001b[0;32m    296\u001b[0m     accumulate_grad\u001b[38;5;241m=\u001b[39m\u001b[38;5;28;01mTrue\u001b[39;00m,\n\u001b[0;32m    297\u001b[0m )\n",
      "File \u001b[1;32m~\\anaconda3\\Lib\\site-packages\\torch\\autograd\\graph.py:769\u001b[0m, in \u001b[0;36m_engine_run_backward\u001b[1;34m(t_outputs, *args, **kwargs)\u001b[0m\n\u001b[0;32m    767\u001b[0m     unregister_hooks \u001b[38;5;241m=\u001b[39m _register_logging_hooks_on_whole_graph(t_outputs)\n\u001b[0;32m    768\u001b[0m \u001b[38;5;28;01mtry\u001b[39;00m:\n\u001b[1;32m--> 769\u001b[0m     \u001b[38;5;28;01mreturn\u001b[39;00m Variable\u001b[38;5;241m.\u001b[39m_execution_engine\u001b[38;5;241m.\u001b[39mrun_backward(  \u001b[38;5;66;03m# Calls into the C++ engine to run the backward pass\u001b[39;00m\n\u001b[0;32m    770\u001b[0m         t_outputs, \u001b[38;5;241m*\u001b[39margs, \u001b[38;5;241m*\u001b[39m\u001b[38;5;241m*\u001b[39mkwargs\n\u001b[0;32m    771\u001b[0m     )  \u001b[38;5;66;03m# Calls into the C++ engine to run the backward pass\u001b[39;00m\n\u001b[0;32m    772\u001b[0m \u001b[38;5;28;01mfinally\u001b[39;00m:\n\u001b[0;32m    773\u001b[0m     \u001b[38;5;28;01mif\u001b[39;00m attach_logging_hooks:\n",
      "\u001b[1;31mKeyboardInterrupt\u001b[0m: "
     ]
    }
   ],
   "source": [
    "for epoch in range(10000):\n",
    "    E_loss = HpsiH(x,model)\n",
    "    #norm_loss = normalization(x,model)            \n",
    "    optimizer.zero_grad()\n",
    "    L_total = E_loss #+ norm_loss\n",
    "    \n",
    "    # Step 3: Backpropagate to compute gradients\n",
    "    L_total.backward()\n",
    "    \n",
    "    # Step 4: Perform the gradient descent step\n",
    "    optimizer.step()\n",
    "    \n",
    "    if epoch%100==99:\n",
    "        print(f\"epochs:{epoch+1} , Loss:{L_total}\")"
   ]
  },
  {
   "cell_type": "code",
   "execution_count": 46,
   "id": "c13b1157-63ee-446f-bc5e-6f9ce119d3c3",
   "metadata": {},
   "outputs": [],
   "source": [
    "u_pred = model(x).reshape(-1)\n",
    "wavefunc = u_pred/(((torch.sum(u_pred**2))*dx)**0.5)"
   ]
  },
  {
   "cell_type": "code",
   "execution_count": 48,
   "id": "4237ce2c-3837-4361-ae1a-a04396fd108d",
   "metadata": {},
   "outputs": [
    {
     "data": {
      "text/plain": [
       "tensor(1.9957, device='cuda:0', grad_fn=<MulBackward0>)"
      ]
     },
     "execution_count": 48,
     "metadata": {},
     "output_type": "execute_result"
    }
   ],
   "source": [
    "((torch.sum(u_pred**2))*dx)"
   ]
  },
  {
   "cell_type": "code",
   "execution_count": 50,
   "id": "53202f4d-6671-4da8-8dad-867b79baac55",
   "metadata": {},
   "outputs": [
    {
     "data": {
      "image/png": "[encoded data removed]",
      "text/plain": [
       "<Figure size 1200x600 with 1 Axes>"
      ]
     },
     "metadata": {},
     "output_type": "display_data"
    }
   ],
   "source": [
    "# Assuming u_pred is already converted to a numpy array\n",
    "u_plot = -1*wavefunc.detach().cpu().numpy()\n",
    "\n",
    "# Create x_array\n",
    "x_array = np.linspace(x_min, x_max, N)\n",
    "\n",
    "# Plot\n",
    "plt.figure(figsize=(12, 6))\n",
    "plt.plot(x_array, u_plot, label='Prediction $u(x)$', color='blue', linewidth=2)\n",
    "\n",
    "# Add labels, title, and legend\n",
    "plt.xlabel('$x$', fontsize=14)\n",
    "plt.ylabel('$u(x)$', fontsize=14)\n",
    "plt.title('Predicted $u(x)$ vs. $x$', fontsize=16)\n",
    "plt.legend(fontsize=12)\n",
    "plt.grid(True)\n",
    "\n",
    "# Show the plot\n",
    "plt.show()\n"
   ]
  },
  {
   "cell_type": "code",
   "execution_count": 52,
   "id": "24c680ec-3d21-468f-a32b-adc861c920b4",
   "metadata": {},
   "outputs": [
    {
     "data": {
      "image/png": "[encoded data removed]",
      "text/plain": [
       "<Figure size 640x480 with 1 Axes>"
      ]
     },
     "metadata": {},
     "output_type": "display_data"
    }
   ],
   "source": [
    "import numpy as np\n",
    "from scipy.special import hermite, factorial\n",
    "\n",
    "def psi_n(X, n, m, omega, hbar):\n",
    "    \"\"\"\n",
    "    Calculate the wavefunction psi_n(x) for the quantum harmonic oscillator.\n",
    "\n",
    "    Parameters:\n",
    "    x : float or ndarray\n",
    "        Position where the wavefunction is evaluated.\n",
    "    n : int\n",
    "        Quantum number (n = 0, 1, 2, ...).\n",
    "    m : float\n",
    "        Mass of the particle.\n",
    "    omega : float\n",
    "        Angular frequency of the oscillator.\n",
    "    hbar : float\n",
    "        Reduced Planck's constant.\n",
    "\n",
    "    Returns:\n",
    "    float or ndarray\n",
    "        Value of the wavefunction at position x.\n",
    "    \"\"\"\n",
    "    # Pre-factor\n",
    "    norm_factor = (1 / np.sqrt(2**n * factorial(n))) * (m * omega / (np.pi * hbar))**0.25\n",
    "\n",
    "    # Exponential term\n",
    "    exp_factor = np.exp(-m * omega * X**2 / (2 * hbar))\n",
    "\n",
    "    # Hermite polynomial\n",
    "    H_n = hermite(n)\n",
    "    hermite_term = H_n(np.sqrt(m * omega / hbar) * X)\n",
    "\n",
    "    # Wavefunction\n",
    "    psi = norm_factor * exp_factor * hermite_term\n",
    "\n",
    "    return psi\n",
    "\n",
    "# Example usage\n",
    "m = 1.0      # Mass of the particle\n",
    "omega = 2.0  # Angular frequency\n",
    "hbar = 1.0   # Reduced Planck's constant\n",
    "X = np.linspace(-10, 10, 20001)  # Position array\n",
    "n = 0        # Quantum number\n",
    "\n",
    "# Calculate psi_n(x) for the given n\n",
    "wavefunction = psi_n(X, n, m, omega, hbar)\n",
    "\n",
    "# Optional: Plotting\n",
    "import matplotlib.pyplot as plt\n",
    "\n",
    "plt.plot(X, wavefunction, label=f\"$\\psi_{n}(x)$\")\n",
    "plt.plot(X, u_plot, label=f\"$\\psi_{n}(x)$\")\n",
    "\n",
    "plt.title(\"Quantum Harmonic Oscillator Wavefunction\")\n",
    "plt.xlabel(\"x\")\n",
    "plt.ylabel(f\"$\\psi_{n}(x)$\")\n",
    "plt.legend()\n",
    "plt.grid()\n",
    "plt.show()\n"
   ]
  },
  {
   "cell_type": "code",
   "execution_count": 418,
   "id": "9978b67e-85b5-439b-9a36-600511b820cc",
   "metadata": {},
   "outputs": [
    {
     "name": "stdout",
     "output_type": "stream",
     "text": [
      "Model parameters saved to nnqs_ground_state.pth\n"
     ]
    }
   ],
   "source": [
    "# Specify the path to save the model parameters\n",
    "model_save_path = \"nnqs_ground_state.pth\"\n",
    "\n",
    "# Save the model's state dictionary\n",
    "torch.save(model.state_dict(), model_save_path)\n",
    "\n",
    "print(f\"Model parameters saved to {model_save_path}\")\n"
   ]
  },
  {
   "cell_type": "code",
   "execution_count": 117,
   "id": "08ac127a-607e-4aea-b064-b51112744d87",
   "metadata": {},
   "outputs": [],
   "source": [
    "class NNES(nn.Module):\n",
    "    def __init__(self):\n",
    "        super(NNES, self).__init__()\n",
    "        self.fc1_u = nn.Linear(1, 50)\n",
    "        self.fc2_u = nn.Linear(50, 50)\n",
    "        self.fc3_u = nn.Linear(50, 1)\n",
    "        #self.fc4_u = nn.Linear(50, 1)\n",
    "        #self.fc5_u = nn.Linear(20, 20)\n",
    "        #self.fc6_u = nn.Linear(20, 1)\n",
    "\n",
    "    def forward(self, x):\n",
    "        u = F.softplus(self.fc1_u(x))\n",
    "        u = F.softplus(self.fc2_u(u))\n",
    "        #u = F.softplus(self.fc3_u(u))\n",
    "        #u = torch.tanh(self.fc4_u(u))\n",
    "        #u = torch.tanh(self.fc5_u(u))\n",
    "        u = self.fc3_u(u)\n",
    "        return u\n",
    "\n",
    "# Initialize model\n",
    "model_excited = NNES().to(device)"
   ]
  },
  {
   "cell_type": "code",
   "execution_count": 119,
   "id": "325a1d16-62b0-4899-ac80-7afe5c790f19",
   "metadata": {},
   "outputs": [
    {
     "data": {
      "text/plain": [
       "tensor([-0.0002, -0.0002, -0.0002,  ...,  0.0002,  0.0002,  0.0002],\n",
       "       device='cuda:0', grad_fn=<SelectBackward0>)"
      ]
     },
     "execution_count": 119,
     "metadata": {},
     "output_type": "execute_result"
    }
   ],
   "source": [
    "u_ground = model(x)\n",
    "u_grad = torch.autograd.grad(u_ground, x, grad_outputs=torch.ones_like(u_ground), create_graph=True)[0]\n",
    "u_gradgrad = torch.autograd.grad(u_grad, x, grad_outputs=torch.ones_like(u_ground), create_graph=True)[0]\n",
    "u_ground_xx = u_gradgrad[:,0]\n",
    "u_ground_xx"
   ]
  },
  {
   "cell_type": "code",
   "execution_count": 121,
   "id": "51a2e95b-9642-4800-bfcf-8b353e713b10",
   "metadata": {},
   "outputs": [],
   "source": [
    "u_g = u_ground.clone().detach()\n",
    "u_g_xx = u_ground_xx.clone().detach()"
   ]
  },
  {
   "cell_type": "code",
   "execution_count": 123,
   "id": "c7da991a-33fd-47a4-abfb-c8e1f14c3345",
   "metadata": {},
   "outputs": [],
   "source": [
    "w = 2.0\n",
    "def HpsiH(x,model_excited):\n",
    "    u_exc_crude = model_excited(x)\n",
    "    cosine = ((torch.sum(u_exc_crude*u_g))/(torch.sum(u_g**2)))\n",
    "    u_exc = u_exc_crude - cosine*u_g\n",
    "    grads = torch.autograd.grad(u_exc_crude, x, grad_outputs=torch.ones_like(u_exc_crude), create_graph=True)[0]\n",
    "    u_x_grads = torch.autograd.grad(grads, x, grad_outputs=torch.ones_like(u_exc_crude), create_graph=True)[0]\n",
    "    u_xx = u_x_grads[:,0]\n",
    "    x1 = x.reshape(-1)\n",
    "    u_xx_exc = u_xx - cosine*u_g_xx\n",
    "    u_exc_shaped = u_exc.reshape(-1)\n",
    "    return torch.sum((-u_xx_exc*u_exc_shaped+(w**2)*(x1**2)*(u_exc_shaped**2)))*dx"
   ]
  },
  {
   "cell_type": "code",
   "execution_count": 125,
   "id": "a36d0404-6888-4d9b-9a76-f7765a2cd832",
   "metadata": {},
   "outputs": [],
   "source": [
    "def normalize(x,model_excited):\n",
    "    u_exc_crude = model_excited(x)\n",
    "    cosine = ((torch.sum(u_exc_crude*u_g))/(torch.sum(u_g**2)))\n",
    "    u_exc = u_exc_crude - cosine*u_g\n",
    "    return 1000*((torch.sum(u_exc**2)*dx - torch.tensor(1.0))**2)"
   ]
  },
  {
   "cell_type": "code",
   "execution_count": 135,
   "id": "292ba26e-8fb5-49d5-a49b-fc7f32419da1",
   "metadata": {},
   "outputs": [],
   "source": [
    "eta = 0.001\n",
    "optimizer2 = optim.Adam(list(model_excited.parameters()), lr=eta)"
   ]
  },
  {
   "cell_type": "code",
   "execution_count": 115,
   "id": "87260aaa-a05b-407a-af9a-08a99395d5c3",
   "metadata": {},
   "outputs": [],
   "source": [
    "# Ensure CUDA context initialization\n",
    "if device.type == 'cuda':\n",
    "    _ = torch.zeros(1, device=device)  # Force CUDA context initialization"
   ]
  },
  {
   "cell_type": "code",
   "execution_count": 137,
   "id": "2e2a46f1-5dce-471a-8a1c-c248738b20e1",
   "metadata": {},
   "outputs": [
    {
     "name": "stdout",
     "output_type": "stream",
     "text": [
      "epochs:100 , Loss:141.72560119628906\n",
      "epochs:200 , Loss:21.90268898010254\n",
      "epochs:300 , Loss:9.916679382324219\n",
      "epochs:400 , Loss:8.045440673828125\n",
      "epochs:500 , Loss:7.185462474822998\n",
      "epochs:600 , Loss:6.7399749755859375\n",
      "epochs:700 , Loss:6.5077362060546875\n",
      "epochs:800 , Loss:6.389211654663086\n",
      "epochs:900 , Loss:6.329634666442871\n",
      "epochs:1000 , Loss:6.295368194580078\n",
      "epochs:1100 , Loss:6.274993419647217\n",
      "epochs:1200 , Loss:6.263519287109375\n",
      "epochs:1300 , Loss:6.24783182144165\n",
      "epochs:1400 , Loss:6.236163139343262\n",
      "epochs:1500 , Loss:6.224745750427246\n",
      "epochs:1600 , Loss:6.2145562171936035\n",
      "epochs:1700 , Loss:6.200082778930664\n",
      "epochs:1800 , Loss:6.232457160949707\n",
      "epochs:1900 , Loss:6.172752857208252\n",
      "epochs:2000 , Loss:6.158708095550537\n",
      "epochs:2100 , Loss:6.145150184631348\n",
      "epochs:2200 , Loss:6.133858680725098\n",
      "epochs:2300 , Loss:6.120461463928223\n",
      "epochs:2400 , Loss:6.113396167755127\n",
      "epochs:2500 , Loss:6.099785327911377\n",
      "epochs:2600 , Loss:6.097632884979248\n",
      "epochs:2700 , Loss:6.08289098739624\n",
      "epochs:2800 , Loss:6.076015472412109\n",
      "epochs:2900 , Loss:6.068904876708984\n",
      "epochs:3000 , Loss:6.062720775604248\n",
      "epochs:3100 , Loss:6.057294845581055\n",
      "epochs:3200 , Loss:6.052124977111816\n",
      "epochs:3300 , Loss:6.049191951751709\n",
      "epochs:3400 , Loss:6.043328762054443\n",
      "epochs:3500 , Loss:6.040182590484619\n",
      "epochs:3600 , Loss:6.035958766937256\n",
      "epochs:3700 , Loss:6.0326828956604\n",
      "epochs:3800 , Loss:6.029810905456543\n",
      "epochs:3900 , Loss:6.027122497558594\n",
      "epochs:4000 , Loss:6.025109767913818\n",
      "epochs:4100 , Loss:6.022541522979736\n",
      "epochs:4200 , Loss:6.037633895874023\n",
      "epochs:4300 , Loss:6.018843650817871\n",
      "epochs:4400 , Loss:6.017213344573975\n",
      "epochs:4500 , Loss:6.042487144470215\n",
      "epochs:4600 , Loss:6.014390468597412\n",
      "epochs:4700 , Loss:6.013129711151123\n",
      "epochs:4800 , Loss:6.012089729309082\n",
      "epochs:4900 , Loss:6.011074542999268\n",
      "epochs:5000 , Loss:6.01024055480957\n",
      "epochs:5100 , Loss:6.009371280670166\n",
      "epochs:5200 , Loss:6.028914451599121\n",
      "epochs:5300 , Loss:6.007976055145264\n",
      "epochs:5400 , Loss:6.007352828979492\n",
      "epochs:5500 , Loss:6.006841659545898\n",
      "epochs:5600 , Loss:6.0063276290893555\n",
      "epochs:5700 , Loss:6.006198406219482\n",
      "epochs:5800 , Loss:6.005495548248291\n",
      "epochs:5900 , Loss:6.005702972412109\n",
      "epochs:6000 , Loss:6.004829406738281\n",
      "epochs:6100 , Loss:6.004522323608398\n",
      "epochs:6200 , Loss:6.004465103149414\n",
      "epochs:6300 , Loss:6.004025459289551\n",
      "epochs:6400 , Loss:6.003790378570557\n",
      "epochs:6500 , Loss:6.003927707672119\n",
      "epochs:6600 , Loss:6.003490924835205\n",
      "epochs:6700 , Loss:6.003330707550049\n",
      "epochs:6800 , Loss:6.003178596496582\n",
      "epochs:6900 , Loss:6.003032207489014\n",
      "epochs:7000 , Loss:6.002964973449707\n",
      "epochs:7100 , Loss:6.002811908721924\n",
      "epochs:7200 , Loss:6.002699851989746\n",
      "epochs:7300 , Loss:6.0026445388793945\n",
      "epochs:7400 , Loss:6.002535343170166\n",
      "epochs:7500 , Loss:6.015712738037109\n",
      "epochs:7600 , Loss:6.0023980140686035\n",
      "epochs:7700 , Loss:6.002326488494873\n",
      "epochs:7800 , Loss:6.0084991455078125\n",
      "epochs:7900 , Loss:6.002238750457764\n",
      "epochs:8000 , Loss:6.002183437347412\n",
      "epochs:8100 , Loss:6.002131462097168\n",
      "epochs:8200 , Loss:6.07417106628418\n",
      "epochs:8300 , Loss:6.002055644989014\n",
      "epochs:8400 , Loss:6.002011775970459\n",
      "epochs:8500 , Loss:6.002052307128906\n",
      "epochs:8600 , Loss:6.001964092254639\n",
      "epochs:8700 , Loss:6.001928806304932\n",
      "epochs:8800 , Loss:6.056909561157227\n",
      "epochs:8900 , Loss:6.001899242401123\n",
      "epochs:9000 , Loss:6.001864433288574\n",
      "epochs:9100 , Loss:6.001835823059082\n",
      "epochs:9200 , Loss:6.003421306610107\n",
      "epochs:9300 , Loss:6.001800060272217\n",
      "epochs:9400 , Loss:6.027669906616211\n",
      "epochs:9500 , Loss:6.001767158508301\n",
      "epochs:9600 , Loss:6.001744747161865\n",
      "epochs:9700 , Loss:6.00175142288208\n",
      "epochs:9800 , Loss:6.001727104187012\n",
      "epochs:9900 , Loss:6.001707553863525\n",
      "epochs:10000 , Loss:6.0050883293151855\n"
     ]
    }
   ],
   "source": [
    "for epoch in range(10000):\n",
    "    E_loss = HpsiH(x,model_excited)\n",
    "    norm_loss = normalize(x,model_excited)         \n",
    "    optimizer2.zero_grad()\n",
    "    Loss_total = E_loss + norm_loss\n",
    "    #Loss_total = norm_loss\n",
    "\n",
    "    # Step 3: Backpropagate to compute gradients\n",
    "    Loss_total.backward()\n",
    "    \n",
    "    # Step 4: Perform the gradient descent step\n",
    "    optimizer2.step()\n",
    "    \n",
    "    if epoch%100==99:\n",
    "        print(f\"epochs:{epoch+1} , Loss:{Loss_total}\")"
   ]
  },
  {
   "cell_type": "code",
   "execution_count": 139,
   "id": "2192f4f1-1e36-4def-b582-43ef727e61cd",
   "metadata": {},
   "outputs": [
    {
     "data": {
      "text/plain": [
       "tensor(1.0005, device='cuda:0', grad_fn=<MulBackward0>)"
      ]
     },
     "execution_count": 139,
     "metadata": {},
     "output_type": "execute_result"
    }
   ],
   "source": [
    "u_exc_crude = model_excited(x)\n",
    "u_exc = u_exc_crude - ((torch.sum(u_exc_crude*u_g))/(torch.sum(u_g**2)))*u_ground\n",
    "torch.sum(u_exc**2)*dx"
   ]
  },
  {
   "cell_type": "code",
   "execution_count": 141,
   "id": "0df8a094-fb89-42f7-9ee8-195d099a0c47",
   "metadata": {},
   "outputs": [
    {
     "data": {
      "image/png": "[encoded data removed]",
      "text/plain": [
       "<Figure size 1200x600 with 1 Axes>"
      ]
     },
     "metadata": {},
     "output_type": "display_data"
    }
   ],
   "source": [
    "# Assuming u_pred is already converted to a numpy array\n",
    "u_plot_excited = u_exc.reshape(-1).clone().detach().cpu().numpy()\n",
    "\n",
    "# Create x_array\n",
    "x_array = np.linspace(x_min, x_max, N)\n",
    "\n",
    "# Plot\n",
    "plt.figure(figsize=(12, 6))\n",
    "plt.plot(x_array, u_plot_excited, label='Prediction $u(x)$', color='blue', linewidth=2)\n",
    "\n",
    "# Add labels, title, and legend\n",
    "plt.xlabel('$x$', fontsize=14)\n",
    "plt.ylabel('$u(x)$', fontsize=14)\n",
    "plt.title('Predicted $u(x)$ vs. $x$', fontsize=16)\n",
    "plt.legend(fontsize=12)\n",
    "plt.grid(True)\n",
    "\n",
    "# Show the plot\n",
    "plt.show()"
   ]
  },
  {
   "cell_type": "code",
   "execution_count": 125,
   "id": "c17836ec-53ab-41e3-aebf-7d4708980b19",
   "metadata": {},
   "outputs": [
    {
     "ename": "NameError",
     "evalue": "name 'u_xx' is not defined",
     "output_type": "error",
     "traceback": [
      "\u001b[1;31m---------------------------------------------------------------------------\u001b[0m",
      "\u001b[1;31mNameError\u001b[0m                                 Traceback (most recent call last)",
      "Cell \u001b[1;32mIn[125], line 1\u001b[0m\n\u001b[1;32m----> 1\u001b[0m torch\u001b[38;5;241m.\u001b[39msum((\u001b[38;5;241m-\u001b[39mu_xx\u001b[38;5;241m*\u001b[39mu_exc_shaped\u001b[38;5;241m+\u001b[39m(w\u001b[38;5;241m*\u001b[39m\u001b[38;5;241m*\u001b[39m\u001b[38;5;241m2\u001b[39m)\u001b[38;5;241m*\u001b[39m(x1\u001b[38;5;241m*\u001b[39m\u001b[38;5;241m*\u001b[39m\u001b[38;5;241m2\u001b[39m)\u001b[38;5;241m*\u001b[39m(u_exc_shaped\u001b[38;5;241m*\u001b[39m\u001b[38;5;241m*\u001b[39m\u001b[38;5;241m2\u001b[39m)))\u001b[38;5;241m*\u001b[39mdx\n",
      "\u001b[1;31mNameError\u001b[0m: name 'u_xx' is not defined"
     ]
    }
   ],
   "source": [
    "torch.sum((-u_xx*u_exc_shaped+(w**2)*(x1**2)*(u_exc_shaped**2)))*dx"
   ]
  },
  {
   "cell_type": "code",
   "execution_count": 104,
   "id": "73f0451d-33cd-4501-a491-8f5dea5e5152",
   "metadata": {},
   "outputs": [],
   "source": [
    "import torch\n",
    "import torch.optim as optim\n",
    "\n",
    "def HpsiH(x, model_excited, u_ground, u_ground_xx, dx, w=2.0):\n",
    "    # Detach x and create a new one that requires grad\n",
    "    x_calc = x.detach().clone().requires_grad_(True)\n",
    "    \n",
    "    u_exc_crude = model_excited(x_calc)\n",
    "    cosine = ((torch.sum(u_exc_crude*u_ground))/(torch.sum(u_ground**2)))\n",
    "    u_exc = u_exc_crude - cosine*u_ground\n",
    "    \n",
    "    # First derivative\n",
    "    grads = torch.autograd.grad(u_exc_crude, x_calc, \n",
    "                               grad_outputs=torch.ones_like(u_exc_crude), \n",
    "                               create_graph=True)[0]\n",
    "    u_x = grads[:,0]\n",
    "    \n",
    "    # Second derivative\n",
    "    u_x_grads = torch.autograd.grad(u_x.sum(), x_calc, \n",
    "                                   create_graph=True)[0]\n",
    "    u_xx = u_x_grads[:,0]\n",
    "    \n",
    "    x1 = x_calc.reshape(-1)\n",
    "    u_xx_exc = u_xx - cosine*u_ground_xx\n",
    "    u_exc_shaped = u_exc.reshape(-1)\n",
    "    \n",
    "    return torch.sum((-u_xx_exc*u_exc_shaped+(w**2)*(x1**2)*(u_exc_shaped**2)))*dx\n",
    "\n",
    "def normalize(x, model_excited, u_ground, dx):\n",
    "    # Create new x tensor for this calculation\n",
    "    x_calc = x.detach().clone().requires_grad_(True)\n",
    "    \n",
    "    u_exc_crude = model_excited(x_calc)\n",
    "    cosine = ((torch.sum(u_exc_crude*u_ground))/(torch.sum(u_ground**2)))\n",
    "    u_exc = u_exc_crude - cosine*u_ground\n",
    "    return 1000*((torch.sum(u_exc**2)*dx - torch.tensor(1.0))**2)\n",
    "\n",
    "def train_model(x, model_excited, u_ground, u_ground_xx, dx, num_epochs=10000, eta=0.01):\n",
    "    optimizer2 = optim.Adam(list(model_excited.parameters()), lr=eta)\n",
    "    \n",
    "    for epoch in range(num_epochs):\n",
    "        optimizer2.zero_grad()\n",
    "        \n",
    "        # Calculate losses with fresh computation graphs\n",
    "        E_loss = HpsiH(x, model_excited, u_ground, u_ground_xx, dx)\n",
    "        norm_loss = normalize(x, model_excited, u_ground, dx)\n",
    "        Loss_total = E_loss + norm_loss\n",
    "        \n",
    "        # Backward pass\n",
    "        Loss_total.backward()  # No need for retain_graph now\n",
    "        \n",
    "        # Optimization step\n",
    "        optimizer2.step()\n",
    "        \n",
    "        if epoch%100 == 99:\n",
    "            print(f\"epochs:{epoch+1} , Loss:{Loss_total.item()}\")\n",
    "            \n",
    "    return model_excited"
   ]
  },
  {
   "cell_type": "code",
   "execution_count": 106,
   "id": "bae4fa5a-2035-4e16-a91d-0e3fe38c51cd",
   "metadata": {},
   "outputs": [
    {
     "ename": "RuntimeError",
     "evalue": "Trying to backward through the graph a second time (or directly access saved tensors after they have already been freed). Saved intermediate values of the graph are freed when you call .backward() or autograd.grad(). Specify retain_graph=True if you need to backward through the graph a second time or if you need to access saved tensors after calling backward.",
     "output_type": "error",
     "traceback": [
      "\u001b[1;31m---------------------------------------------------------------------------\u001b[0m",
      "\u001b[1;31mRuntimeError\u001b[0m                              Traceback (most recent call last)",
      "Cell \u001b[1;32mIn[106], line 1\u001b[0m\n\u001b[1;32m----> 1\u001b[0m train_model(x, model_excited, u_ground, u_ground_xx, dx, num_epochs\u001b[38;5;241m=\u001b[39m\u001b[38;5;241m10000\u001b[39m, eta\u001b[38;5;241m=\u001b[39m\u001b[38;5;241m0.01\u001b[39m)\n",
      "Cell \u001b[1;32mIn[104], line 50\u001b[0m, in \u001b[0;36mtrain_model\u001b[1;34m(x, model_excited, u_ground, u_ground_xx, dx, num_epochs, eta)\u001b[0m\n\u001b[0;32m     47\u001b[0m Loss_total \u001b[38;5;241m=\u001b[39m E_loss \u001b[38;5;241m+\u001b[39m norm_loss\n\u001b[0;32m     49\u001b[0m \u001b[38;5;66;03m# Backward pass\u001b[39;00m\n\u001b[1;32m---> 50\u001b[0m Loss_total\u001b[38;5;241m.\u001b[39mbackward()  \u001b[38;5;66;03m# No need for retain_graph now\u001b[39;00m\n\u001b[0;32m     52\u001b[0m \u001b[38;5;66;03m# Optimization step\u001b[39;00m\n\u001b[0;32m     53\u001b[0m optimizer2\u001b[38;5;241m.\u001b[39mstep()\n",
      "File \u001b[1;32m~\\anaconda3\\Lib\\site-packages\\torch\\_tensor.py:521\u001b[0m, in \u001b[0;36mTensor.backward\u001b[1;34m(self, gradient, retain_graph, create_graph, inputs)\u001b[0m\n\u001b[0;32m    511\u001b[0m \u001b[38;5;28;01mif\u001b[39;00m has_torch_function_unary(\u001b[38;5;28mself\u001b[39m):\n\u001b[0;32m    512\u001b[0m     \u001b[38;5;28;01mreturn\u001b[39;00m handle_torch_function(\n\u001b[0;32m    513\u001b[0m         Tensor\u001b[38;5;241m.\u001b[39mbackward,\n\u001b[0;32m    514\u001b[0m         (\u001b[38;5;28mself\u001b[39m,),\n\u001b[1;32m   (...)\u001b[0m\n\u001b[0;32m    519\u001b[0m         inputs\u001b[38;5;241m=\u001b[39minputs,\n\u001b[0;32m    520\u001b[0m     )\n\u001b[1;32m--> 521\u001b[0m torch\u001b[38;5;241m.\u001b[39mautograd\u001b[38;5;241m.\u001b[39mbackward(\n\u001b[0;32m    522\u001b[0m     \u001b[38;5;28mself\u001b[39m, gradient, retain_graph, create_graph, inputs\u001b[38;5;241m=\u001b[39minputs\n\u001b[0;32m    523\u001b[0m )\n",
      "File \u001b[1;32m~\\anaconda3\\Lib\\site-packages\\torch\\autograd\\__init__.py:289\u001b[0m, in \u001b[0;36mbackward\u001b[1;34m(tensors, grad_tensors, retain_graph, create_graph, grad_variables, inputs)\u001b[0m\n\u001b[0;32m    284\u001b[0m     retain_graph \u001b[38;5;241m=\u001b[39m create_graph\n\u001b[0;32m    286\u001b[0m \u001b[38;5;66;03m# The reason we repeat the same comment below is that\u001b[39;00m\n\u001b[0;32m    287\u001b[0m \u001b[38;5;66;03m# some Python versions print out the first line of a multi-line function\u001b[39;00m\n\u001b[0;32m    288\u001b[0m \u001b[38;5;66;03m# calls in the traceback and some print out the last line\u001b[39;00m\n\u001b[1;32m--> 289\u001b[0m _engine_run_backward(\n\u001b[0;32m    290\u001b[0m     tensors,\n\u001b[0;32m    291\u001b[0m     grad_tensors_,\n\u001b[0;32m    292\u001b[0m     retain_graph,\n\u001b[0;32m    293\u001b[0m     create_graph,\n\u001b[0;32m    294\u001b[0m     inputs,\n\u001b[0;32m    295\u001b[0m     allow_unreachable\u001b[38;5;241m=\u001b[39m\u001b[38;5;28;01mTrue\u001b[39;00m,\n\u001b[0;32m    296\u001b[0m     accumulate_grad\u001b[38;5;241m=\u001b[39m\u001b[38;5;28;01mTrue\u001b[39;00m,\n\u001b[0;32m    297\u001b[0m )\n",
      "File \u001b[1;32m~\\anaconda3\\Lib\\site-packages\\torch\\autograd\\graph.py:769\u001b[0m, in \u001b[0;36m_engine_run_backward\u001b[1;34m(t_outputs, *args, **kwargs)\u001b[0m\n\u001b[0;32m    767\u001b[0m     unregister_hooks \u001b[38;5;241m=\u001b[39m _register_logging_hooks_on_whole_graph(t_outputs)\n\u001b[0;32m    768\u001b[0m \u001b[38;5;28;01mtry\u001b[39;00m:\n\u001b[1;32m--> 769\u001b[0m     \u001b[38;5;28;01mreturn\u001b[39;00m Variable\u001b[38;5;241m.\u001b[39m_execution_engine\u001b[38;5;241m.\u001b[39mrun_backward(  \u001b[38;5;66;03m# Calls into the C++ engine to run the backward pass\u001b[39;00m\n\u001b[0;32m    770\u001b[0m         t_outputs, \u001b[38;5;241m*\u001b[39margs, \u001b[38;5;241m*\u001b[39m\u001b[38;5;241m*\u001b[39mkwargs\n\u001b[0;32m    771\u001b[0m     )  \u001b[38;5;66;03m# Calls into the C++ engine to run the backward pass\u001b[39;00m\n\u001b[0;32m    772\u001b[0m \u001b[38;5;28;01mfinally\u001b[39;00m:\n\u001b[0;32m    773\u001b[0m     \u001b[38;5;28;01mif\u001b[39;00m attach_logging_hooks:\n",
      "\u001b[1;31mRuntimeError\u001b[0m: Trying to backward through the graph a second time (or directly access saved tensors after they have already been freed). Saved intermediate values of the graph are freed when you call .backward() or autograd.grad(). Specify retain_graph=True if you need to backward through the graph a second time or if you need to access saved tensors after calling backward."
     ]
    }
   ],
   "source": []
  },
  {
   "cell_type": "code",
   "execution_count": 108,
   "id": "33d0cd9e-f3f1-469b-8969-27f41f67144b",
   "metadata": {},
   "outputs": [],
   "source": [
    "import torch\n",
    "import torch.optim as optim\n",
    "\n",
    "def HpsiH(x, model_excited, u_ground, u_ground_xx, dx, w=2.0):\n",
    "    u_exc_crude = model_excited(x)\n",
    "    cosine = ((torch.sum(u_exc_crude*u_ground))/(torch.sum(u_ground**2)))\n",
    "    u_exc = u_exc_crude - cosine*u_ground\n",
    "    \n",
    "    grads = torch.autograd.grad(u_exc_crude, x, \n",
    "                               grad_outputs=torch.ones_like(u_exc_crude), \n",
    "                               create_graph=True)[0]\n",
    "    u_x = grads[:,0]\n",
    "    \n",
    "    u_x_grads = torch.autograd.grad(grads, x, \n",
    "                                   grad_outputs=torch.ones_like(u_exc_crude), \n",
    "                                   create_graph=True)[0]\n",
    "    u_xx = u_x_grads[:,0]\n",
    "    \n",
    "    x1 = x.reshape(-1)\n",
    "    u_xx_exc = u_xx - cosine*u_ground_xx\n",
    "    u_exc_shaped = u_exc.reshape(-1)\n",
    "    \n",
    "    return torch.sum((-u_xx_exc*u_exc_shaped+(w**2)*(x1**2)*(u_exc_shaped**2)))*dx\n",
    "\n",
    "def normalize(x, model_excited, u_ground, dx):\n",
    "    with torch.set_grad_enabled(True):  # Ensure we can compute gradients\n",
    "        u_exc_crude = model_excited(x)\n",
    "        cosine = ((torch.sum(u_exc_crude*u_ground))/(torch.sum(u_ground**2)))\n",
    "        u_exc = u_exc_crude - cosine*u_ground\n",
    "        return 1000*((torch.sum(u_exc**2)*dx - torch.tensor(1.0))**2)\n",
    "\n",
    "def train_model(x, model_excited, u_ground, u_ground_xx, dx, num_epochs=10000, eta=0.01):\n",
    "    optimizer2 = optim.Adam(list(model_excited.parameters()), lr=eta)\n",
    "    \n",
    "    for epoch in range(num_epochs):\n",
    "        # Forward pass with a fresh computation graph\n",
    "        with torch.set_grad_enabled(True):\n",
    "            E_loss = HpsiH(x, model_excited, u_ground, u_ground_xx, dx)\n",
    "            norm_loss = normalize(x, model_excited, u_ground, dx)\n",
    "            Loss_total = E_loss + norm_loss\n",
    "        \n",
    "        # Zero gradients before backward pass\n",
    "        optimizer2.zero_grad()\n",
    "        \n",
    "        # Backward pass\n",
    "        Loss_total.backward()\n",
    "        \n",
    "        # Optimization step\n",
    "        optimizer2.step()\n",
    "        \n",
    "        if epoch%100 == 99:\n",
    "            print(f\"epochs:{epoch+1} , Loss:{Loss_total.item()}\")\n",
    "    \n",
    "    return model_excited"
   ]
  },
  {
   "cell_type": "code",
   "execution_count": 110,
   "id": "cf2d4584-1c1c-4554-aa47-18d84c97ce49",
   "metadata": {},
   "outputs": [
    {
     "ename": "RuntimeError",
     "evalue": "Trying to backward through the graph a second time (or directly access saved tensors after they have already been freed). Saved intermediate values of the graph are freed when you call .backward() or autograd.grad(). Specify retain_graph=True if you need to backward through the graph a second time or if you need to access saved tensors after calling backward.",
     "output_type": "error",
     "traceback": [
      "\u001b[1;31m---------------------------------------------------------------------------\u001b[0m",
      "\u001b[1;31mRuntimeError\u001b[0m                              Traceback (most recent call last)",
      "Cell \u001b[1;32mIn[110], line 1\u001b[0m\n\u001b[1;32m----> 1\u001b[0m train_model(x, model_excited, u_ground, u_ground_xx, dx, num_epochs\u001b[38;5;241m=\u001b[39m\u001b[38;5;241m10000\u001b[39m, eta\u001b[38;5;241m=\u001b[39m\u001b[38;5;241m0.01\u001b[39m)\n",
      "Cell \u001b[1;32mIn[108], line 46\u001b[0m, in \u001b[0;36mtrain_model\u001b[1;34m(x, model_excited, u_ground, u_ground_xx, dx, num_epochs, eta)\u001b[0m\n\u001b[0;32m     43\u001b[0m optimizer2\u001b[38;5;241m.\u001b[39mzero_grad()\n\u001b[0;32m     45\u001b[0m \u001b[38;5;66;03m# Backward pass\u001b[39;00m\n\u001b[1;32m---> 46\u001b[0m Loss_total\u001b[38;5;241m.\u001b[39mbackward()\n\u001b[0;32m     48\u001b[0m \u001b[38;5;66;03m# Optimization step\u001b[39;00m\n\u001b[0;32m     49\u001b[0m optimizer2\u001b[38;5;241m.\u001b[39mstep()\n",
      "File \u001b[1;32m~\\anaconda3\\Lib\\site-packages\\torch\\_tensor.py:521\u001b[0m, in \u001b[0;36mTensor.backward\u001b[1;34m(self, gradient, retain_graph, create_graph, inputs)\u001b[0m\n\u001b[0;32m    511\u001b[0m \u001b[38;5;28;01mif\u001b[39;00m has_torch_function_unary(\u001b[38;5;28mself\u001b[39m):\n\u001b[0;32m    512\u001b[0m     \u001b[38;5;28;01mreturn\u001b[39;00m handle_torch_function(\n\u001b[0;32m    513\u001b[0m         Tensor\u001b[38;5;241m.\u001b[39mbackward,\n\u001b[0;32m    514\u001b[0m         (\u001b[38;5;28mself\u001b[39m,),\n\u001b[1;32m   (...)\u001b[0m\n\u001b[0;32m    519\u001b[0m         inputs\u001b[38;5;241m=\u001b[39minputs,\n\u001b[0;32m    520\u001b[0m     )\n\u001b[1;32m--> 521\u001b[0m torch\u001b[38;5;241m.\u001b[39mautograd\u001b[38;5;241m.\u001b[39mbackward(\n\u001b[0;32m    522\u001b[0m     \u001b[38;5;28mself\u001b[39m, gradient, retain_graph, create_graph, inputs\u001b[38;5;241m=\u001b[39minputs\n\u001b[0;32m    523\u001b[0m )\n",
      "File \u001b[1;32m~\\anaconda3\\Lib\\site-packages\\torch\\autograd\\__init__.py:289\u001b[0m, in \u001b[0;36mbackward\u001b[1;34m(tensors, grad_tensors, retain_graph, create_graph, grad_variables, inputs)\u001b[0m\n\u001b[0;32m    284\u001b[0m     retain_graph \u001b[38;5;241m=\u001b[39m create_graph\n\u001b[0;32m    286\u001b[0m \u001b[38;5;66;03m# The reason we repeat the same comment below is that\u001b[39;00m\n\u001b[0;32m    287\u001b[0m \u001b[38;5;66;03m# some Python versions print out the first line of a multi-line function\u001b[39;00m\n\u001b[0;32m    288\u001b[0m \u001b[38;5;66;03m# calls in the traceback and some print out the last line\u001b[39;00m\n\u001b[1;32m--> 289\u001b[0m _engine_run_backward(\n\u001b[0;32m    290\u001b[0m     tensors,\n\u001b[0;32m    291\u001b[0m     grad_tensors_,\n\u001b[0;32m    292\u001b[0m     retain_graph,\n\u001b[0;32m    293\u001b[0m     create_graph,\n\u001b[0;32m    294\u001b[0m     inputs,\n\u001b[0;32m    295\u001b[0m     allow_unreachable\u001b[38;5;241m=\u001b[39m\u001b[38;5;28;01mTrue\u001b[39;00m,\n\u001b[0;32m    296\u001b[0m     accumulate_grad\u001b[38;5;241m=\u001b[39m\u001b[38;5;28;01mTrue\u001b[39;00m,\n\u001b[0;32m    297\u001b[0m )\n",
      "File \u001b[1;32m~\\anaconda3\\Lib\\site-packages\\torch\\autograd\\graph.py:769\u001b[0m, in \u001b[0;36m_engine_run_backward\u001b[1;34m(t_outputs, *args, **kwargs)\u001b[0m\n\u001b[0;32m    767\u001b[0m     unregister_hooks \u001b[38;5;241m=\u001b[39m _register_logging_hooks_on_whole_graph(t_outputs)\n\u001b[0;32m    768\u001b[0m \u001b[38;5;28;01mtry\u001b[39;00m:\n\u001b[1;32m--> 769\u001b[0m     \u001b[38;5;28;01mreturn\u001b[39;00m Variable\u001b[38;5;241m.\u001b[39m_execution_engine\u001b[38;5;241m.\u001b[39mrun_backward(  \u001b[38;5;66;03m# Calls into the C++ engine to run the backward pass\u001b[39;00m\n\u001b[0;32m    770\u001b[0m         t_outputs, \u001b[38;5;241m*\u001b[39margs, \u001b[38;5;241m*\u001b[39m\u001b[38;5;241m*\u001b[39mkwargs\n\u001b[0;32m    771\u001b[0m     )  \u001b[38;5;66;03m# Calls into the C++ engine to run the backward pass\u001b[39;00m\n\u001b[0;32m    772\u001b[0m \u001b[38;5;28;01mfinally\u001b[39;00m:\n\u001b[0;32m    773\u001b[0m     \u001b[38;5;28;01mif\u001b[39;00m attach_logging_hooks:\n",
      "\u001b[1;31mRuntimeError\u001b[0m: Trying to backward through the graph a second time (or directly access saved tensors after they have already been freed). Saved intermediate values of the graph are freed when you call .backward() or autograd.grad(). Specify retain_graph=True if you need to backward through the graph a second time or if you need to access saved tensors after calling backward."
     ]
    }
   ],
   "source": [
    "train_model(x, model_excited, u_ground, u_ground_xx, dx, num_epochs=10000, eta=0.01)"
   ]
  },
  {
   "cell_type": "code",
   "execution_count": 136,
   "id": "4e6f6f41-ab44-417b-b3b7-2bd1211ccde9",
   "metadata": {},
   "outputs": [
    {
     "data": {
      "text/plain": [
       "tensor(0.9985, device='cuda:0', grad_fn=<MulBackward0>)"
      ]
     },
     "execution_count": 136,
     "metadata": {},
     "output_type": "execute_result"
    }
   ],
   "source": [
    "torch.sum(u_ground**2)*0.001"
   ]
  },
  {
   "cell_type": "code",
   "execution_count": null,
   "id": "a3d5c777-39e5-445e-bf21-efa6f23003ee",
   "metadata": {},
   "outputs": [],
   "source": []
  }
 ],
 "metadata": {
  "kernelspec": {
   "display_name": "Python 3 (ipykernel)",
   "language": "python",
   "name": "python3"
  },
  "language_info": {
   "codemirror_mode": {
    "name": "ipython",
    "version": 3
   },
   "file_extension": ".py",
   "mimetype": "text/x-python",
   "name": "python",
   "nbconvert_exporter": "python",
   "pygments_lexer": "ipython3",
   "version": "3.11.7"
  }
 },
 "nbformat": 4,
 "nbformat_minor": 5
}
