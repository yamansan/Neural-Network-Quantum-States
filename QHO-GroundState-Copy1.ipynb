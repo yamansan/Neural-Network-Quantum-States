{
 "cells": [
  {
   "cell_type": "code",
   "execution_count": 56,
   "id": "6d096d0a-8ca9-424f-a8f9-b9433e7d9f25",
   "metadata": {},
   "outputs": [],
   "source": [
    "import torch"
   ]
  },
  {
   "cell_type": "code",
   "execution_count": 58,
   "id": "3053d554-f978-43d5-9747-c80e631c55ae",
   "metadata": {},
   "outputs": [],
   "source": [
    "import torch.nn as nn\n",
    "import torch.optim as optim\n",
    "import torch.nn.functional as F"
   ]
  },
  {
   "cell_type": "code",
   "execution_count": 60,
   "id": "6ec8bb66-d295-4777-aaa9-aeb7109306bc",
   "metadata": {},
   "outputs": [
    {
     "name": "stdout",
     "output_type": "stream",
     "text": [
      "Using device: cuda\n"
     ]
    }
   ],
   "source": [
    "device = torch.device(\"cuda\" if torch.cuda.is_available() else \"cpu\")\n",
    "print(f\"Using device: {device}\")"
   ]
  },
  {
   "cell_type": "code",
   "execution_count": 62,
   "id": "f337d8fa-da6f-4872-8aa3-fa112456b26c",
   "metadata": {},
   "outputs": [],
   "source": [
    "class NNQS(nn.Module):\n",
    "    def __init__(self):\n",
    "        super(NNQS, self).__init__()\n",
    "        self.fc1_u = nn.Linear(1, 50)\n",
    "        self.fc2_u = nn.Linear(50, 50)\n",
    "        self.fc3_u = nn.Linear(50, 1)\n",
    "        #self.fc4_u = nn.Linear(50, 1)\n",
    "        #self.fc5_u = nn.Linear(20, 20)\n",
    "        #self.fc6_u = nn.Linear(20, 1)\n",
    "\n",
    "    def forward(self, x):\n",
    "        u = F.softplus(self.fc1_u(x))\n",
    "        u = F.softplus(self.fc2_u(u))\n",
    "        #u = F.softplus(self.fc3_u(u))\n",
    "        #u = torch.tanh(self.fc4_u(u))\n",
    "        #u = torch.tanh(self.fc5_u(u))\n",
    "        u = self.fc3_u(u)\n",
    "        return u\n",
    "\n",
    "# Initialize model\n",
    "model = NNQS().to(device)\n"
   ]
  },
  {
   "cell_type": "code",
   "execution_count": 64,
   "id": "b3eaa272-dc76-454c-8323-b9765801f79f",
   "metadata": {},
   "outputs": [],
   "source": [
    "# Ensure CUDA context initialization\n",
    "if device.type == 'cuda':\n",
    "    _ = torch.zeros(1, device=device)  # Force CUDA context initialization\n"
   ]
  },
  {
   "cell_type": "code",
   "execution_count": 66,
   "id": "ba788d6b-25c7-4ad6-9e93-a6b45c4c91d3",
   "metadata": {},
   "outputs": [],
   "source": [
    "x = torch.linspace(-10,10,20001).to(device)\n",
    "x.requires_grad = True\n",
    "if device.type == 'cuda':\n",
    "    _ = torch.zeros(1, device=device)  # Force CUDA context initialization"
   ]
  },
  {
   "cell_type": "code",
   "execution_count": 68,
   "id": "f525278b-599d-4521-889f-1ce96e0bcfa7",
   "metadata": {},
   "outputs": [
    {
     "data": {
      "text/plain": [
       "tensor([[-10.0000],\n",
       "        [ -9.9990],\n",
       "        [ -9.9980],\n",
       "        ...,\n",
       "        [  9.9980],\n",
       "        [  9.9990],\n",
       "        [ 10.0000]], device='cuda:0', grad_fn=<ViewBackward0>)"
      ]
     },
     "execution_count": 68,
     "metadata": {},
     "output_type": "execute_result"
    }
   ],
   "source": [
    "x = x.reshape(-1,1)\n",
    "x"
   ]
  },
  {
   "cell_type": "code",
   "execution_count": 70,
   "id": "96433a5f-a70c-442a-a8aa-d62a6adb6b2f",
   "metadata": {},
   "outputs": [
    {
     "data": {
      "text/plain": [
       "tensor([0.0010], device='cuda:0', grad_fn=<SubBackward0>)"
      ]
     },
     "execution_count": 70,
     "metadata": {},
     "output_type": "execute_result"
    }
   ],
   "source": [
    "x[1]-x[0]"
   ]
  },
  {
   "cell_type": "code",
   "execution_count": 72,
   "id": "b0d3219b-ec30-43ef-bc66-7cd1e8728766",
   "metadata": {
    "scrolled": true
   },
   "outputs": [
    {
     "data": {
      "text/plain": [
       "tensor([[-0.0008],\n",
       "        [-0.0008],\n",
       "        [-0.0008],\n",
       "        ...,\n",
       "        [ 0.2397],\n",
       "        [ 0.2397],\n",
       "        [ 0.2397]], device='cuda:0', grad_fn=<AddmmBackward0>)"
      ]
     },
     "execution_count": 72,
     "metadata": {},
     "output_type": "execute_result"
    }
   ],
   "source": [
    "model(x)"
   ]
  },
  {
   "cell_type": "code",
   "execution_count": 74,
   "id": "cfe5ed12-a233-4fd7-ad97-b6ea723225d3",
   "metadata": {},
   "outputs": [],
   "source": [
    "def HpsiH(x,model):\n",
    "    u = model(x)\n",
    "    u1 = u.reshape(-1)\n",
    "    grads = torch.autograd.grad(u, x, grad_outputs=torch.ones_like(u), create_graph=True)[0]\n",
    "    u_x = grads[:,0]\n",
    "    u_x_grads = torch.autograd.grad(grads, x, grad_outputs=torch.ones_like(u), create_graph=True)[0]\n",
    "    u_xx = u_x_grads[:,0]\n",
    "    x1 = x.reshape(-1)\n",
    "    return (torch.sum((-u_xx*u1+(4.0)*(x1**2)*(u1**2)))*0.001)**2"
   ]
  },
  {
   "cell_type": "code",
   "execution_count": 76,
   "id": "0c198e0a-e93f-43df-b30d-1c7b5d0df272",
   "metadata": {},
   "outputs": [],
   "source": [
    "def normalization(x,model):\n",
    "    u = model(x)\n",
    "    return 1000*((torch.sum(u**2)*0.001 - torch.tensor(1.0))**2)"
   ]
  },
  {
   "cell_type": "code",
   "execution_count": 78,
   "id": "7552a416-3703-47e9-be27-f4e977e882c8",
   "metadata": {},
   "outputs": [],
   "source": [
    "eta = 0.001\n",
    "optimizer = optim.Adam(list(model.parameters()), lr=eta)"
   ]
  },
  {
   "cell_type": "code",
   "execution_count": 82,
   "id": "9e7bb4fb-a49b-412d-82d3-305f3417f429",
   "metadata": {},
   "outputs": [
    {
     "name": "stdout",
     "output_type": "stream",
     "text": [
      "epochs:100 , Loss:4.248057842254639\n",
      "epochs:200 , Loss:4.240575313568115\n",
      "epochs:300 , Loss:4.233349323272705\n",
      "epochs:400 , Loss:4.226335048675537\n",
      "epochs:500 , Loss:4.219505310058594\n",
      "epochs:600 , Loss:4.212836742401123\n",
      "epochs:700 , Loss:4.206304550170898\n",
      "epochs:800 , Loss:4.19989538192749\n",
      "epochs:900 , Loss:4.19357442855835\n",
      "epochs:1000 , Loss:4.187331676483154\n",
      "epochs:1100 , Loss:4.181150913238525\n",
      "epochs:1200 , Loss:4.1750335693359375\n",
      "epochs:1300 , Loss:4.168966293334961\n",
      "epochs:1400 , Loss:4.162945747375488\n",
      "epochs:1500 , Loss:4.156970024108887\n",
      "epochs:1600 , Loss:4.1510419845581055\n",
      "epochs:1700 , Loss:4.145161151885986\n",
      "epochs:1800 , Loss:4.1393327713012695\n",
      "epochs:1900 , Loss:4.133563041687012\n",
      "epochs:2000 , Loss:4.127858638763428\n",
      "epochs:2100 , Loss:4.122225284576416\n",
      "epochs:2200 , Loss:4.116672992706299\n",
      "epochs:2300 , Loss:4.111207008361816\n",
      "epochs:2400 , Loss:4.10584020614624\n",
      "epochs:2500 , Loss:4.100577354431152\n",
      "epochs:2600 , Loss:4.095429420471191\n",
      "epochs:2700 , Loss:4.090394973754883\n",
      "epochs:2800 , Loss:4.085487365722656\n",
      "epochs:2900 , Loss:4.080715179443359\n",
      "epochs:3000 , Loss:4.0760817527771\n",
      "epochs:3100 , Loss:4.071594715118408\n",
      "epochs:3200 , Loss:4.067262649536133\n",
      "epochs:3300 , Loss:4.063085079193115\n",
      "epochs:3400 , Loss:4.059067726135254\n",
      "epochs:3500 , Loss:4.055213451385498\n",
      "epochs:3600 , Loss:4.0515241622924805\n",
      "epochs:3700 , Loss:4.047998905181885\n",
      "epochs:3800 , Loss:4.04464054107666\n",
      "epochs:3900 , Loss:4.04144811630249\n",
      "epochs:4000 , Loss:4.038421630859375\n",
      "epochs:4100 , Loss:4.035556316375732\n",
      "epochs:4200 , Loss:4.032852649688721\n",
      "epochs:4300 , Loss:4.030303478240967\n",
      "epochs:4400 , Loss:4.027909278869629\n",
      "epochs:4500 , Loss:4.025661945343018\n",
      "epochs:4600 , Loss:4.023557662963867\n",
      "epochs:4700 , Loss:4.021592617034912\n",
      "epochs:4800 , Loss:4.019759178161621\n",
      "epochs:4900 , Loss:4.018052577972412\n",
      "epochs:5000 , Loss:4.016468048095703\n",
      "epochs:5100 , Loss:4.014997482299805\n",
      "epochs:5200 , Loss:4.01381254196167\n",
      "epochs:5300 , Loss:4.012560844421387\n",
      "epochs:5400 , Loss:4.011526107788086\n",
      "epochs:5500 , Loss:4.010545253753662\n",
      "epochs:5600 , Loss:4.009671211242676\n",
      "epochs:5700 , Loss:4.008880615234375\n",
      "epochs:5800 , Loss:4.008153438568115\n",
      "epochs:5900 , Loss:4.007511615753174\n",
      "epochs:6000 , Loss:4.006896495819092\n",
      "epochs:6100 , Loss:4.007516860961914\n",
      "epochs:6200 , Loss:4.005863189697266\n",
      "epochs:6300 , Loss:4.005396842956543\n",
      "epochs:6400 , Loss:4.03220796585083\n",
      "epochs:6500 , Loss:4.0045552253723145\n",
      "epochs:6600 , Loss:4.004215717315674\n",
      "epochs:6700 , Loss:4.003831386566162\n",
      "epochs:6800 , Loss:4.003625869750977\n",
      "epochs:6900 , Loss:4.003183364868164\n",
      "epochs:7000 , Loss:4.00287389755249\n",
      "epochs:7100 , Loss:4.002761363983154\n",
      "epochs:7200 , Loss:4.0023369789123535\n",
      "epochs:7300 , Loss:4.002077579498291\n",
      "epochs:7400 , Loss:4.002026557922363\n",
      "epochs:7500 , Loss:4.0015950202941895\n",
      "epochs:7600 , Loss:4.002158164978027\n",
      "epochs:7700 , Loss:4.0011467933654785\n",
      "epochs:7800 , Loss:4.009764194488525\n",
      "epochs:7900 , Loss:4.000728607177734\n",
      "epochs:8000 , Loss:4.00053596496582\n",
      "epochs:8100 , Loss:4.000351905822754\n",
      "epochs:8200 , Loss:4.00014066696167\n",
      "epochs:8300 , Loss:4.00039529800415\n",
      "epochs:8400 , Loss:3.9997739791870117\n",
      "epochs:8500 , Loss:4.000076770782471\n",
      "epochs:8600 , Loss:3.99942684173584\n",
      "epochs:8700 , Loss:3.9992997646331787\n",
      "epochs:8800 , Loss:3.9990968704223633\n",
      "epochs:8900 , Loss:3.998932123184204\n",
      "epochs:9000 , Loss:3.9988129138946533\n",
      "epochs:9100 , Loss:3.9986202716827393\n",
      "epochs:9200 , Loss:3.998671770095825\n",
      "epochs:9300 , Loss:3.9983301162719727\n",
      "epochs:9400 , Loss:3.9988884925842285\n",
      "epochs:9500 , Loss:3.998055934906006\n",
      "epochs:9600 , Loss:3.997915506362915\n",
      "epochs:9700 , Loss:3.998412847518921\n",
      "epochs:9800 , Loss:3.9976603984832764\n",
      "epochs:9900 , Loss:3.9981303215026855\n",
      "epochs:10000 , Loss:3.997422695159912\n"
     ]
    }
   ],
   "source": [
    "for epoch in range(10000):\n",
    "    E_loss = HpsiH(x,model)\n",
    "    norm_loss = normalization(x,model)            \n",
    "    optimizer.zero_grad()\n",
    "    L_total = E_loss + norm_loss\n",
    "    \n",
    "    # Step 3: Backpropagate to compute gradients\n",
    "    L_total.backward()\n",
    "    \n",
    "    # Step 4: Perform the gradient descent step\n",
    "    optimizer.step()\n",
    "    \n",
    "    if epoch%100==99:\n",
    "        print(f\"epochs:{epoch+1} , Loss:{L_total}\")"
   ]
  },
  {
   "cell_type": "code",
   "execution_count": 114,
   "id": "87cb4825-424f-4558-b797-2ead7d3b033b",
   "metadata": {},
   "outputs": [],
   "source": [
    "u_pred = model(x).reshape(-1)"
   ]
  },
  {
   "cell_type": "code",
   "execution_count": 116,
   "id": "cbb2440f-9ccc-4c65-9f39-c5dac7902844",
   "metadata": {},
   "outputs": [
    {
     "data": {
      "text/plain": [
       "tensor([ 0.0003,  0.0003,  0.0003,  ..., -0.0008, -0.0008, -0.0008],\n",
       "       device='cuda:0', grad_fn=<ViewBackward0>)"
      ]
     },
     "execution_count": 116,
     "metadata": {},
     "output_type": "execute_result"
    }
   ],
   "source": [
    "u_pred"
   ]
  },
  {
   "cell_type": "code",
   "execution_count": 94,
   "id": "53202f4d-6671-4da8-8dad-867b79baac55",
   "metadata": {},
   "outputs": [
    {
     "data": {
      "image/png": "[encoded data removed]",
      "text/plain": [
       "<Figure size 1200x600 with 1 Axes>"
      ]
     },
     "metadata": {},
     "output_type": "display_data"
    }
   ],
   "source": [
    "import numpy as np\n",
    "import matplotlib.pyplot as plt\n",
    "\n",
    "# Assuming u_pred is already converted to a numpy array\n",
    "u_pred = u_pred.detach().cpu().numpy()\n",
    "\n",
    "# Create x_array\n",
    "x_array = np.linspace(-10, 10, 20001)\n",
    "\n",
    "# Plot\n",
    "plt.figure(figsize=(12, 6))\n",
    "plt.plot(x_array, u_pred, label='Prediction $u(x)$', color='blue', linewidth=2)\n",
    "\n",
    "# Add labels, title, and legend\n",
    "plt.xlabel('$x$', fontsize=14)\n",
    "plt.ylabel('$u(x)$', fontsize=14)\n",
    "plt.title('Predicted $u(x)$ vs. $x$', fontsize=16)\n",
    "plt.legend(fontsize=12)\n",
    "plt.grid(True)\n",
    "\n",
    "# Show the plot\n",
    "plt.show()\n"
   ]
  },
  {
   "cell_type": "code",
   "execution_count": 128,
   "id": "a1b50819-21f6-400e-9e24-6ff8d374c6ab",
   "metadata": {},
   "outputs": [],
   "source": [
    "u = model(x)"
   ]
  },
  {
   "cell_type": "code",
   "execution_count": 129,
   "id": "f1f42f11-9595-4146-9aca-d497ad135734",
   "metadata": {},
   "outputs": [
    {
     "data": {
      "text/plain": [
       "tensor(3.9974, device='cuda:0', grad_fn=<DivBackward0>)"
      ]
     },
     "execution_count": 129,
     "metadata": {},
     "output_type": "execute_result"
    }
   ],
   "source": [
    "HpsiH(x,model)/(torch.sum(u**2)*0.001)"
   ]
  },
  {
   "cell_type": "code",
   "execution_count": 130,
   "id": "3c9eb0fd-3fd2-40f0-8047-8869bd9f7912",
   "metadata": {},
   "outputs": [
    {
     "data": {
      "text/plain": [
       "tensor(0.9960, device='cuda:0', grad_fn=<MulBackward0>)"
      ]
     },
     "execution_count": 130,
     "metadata": {},
     "output_type": "execute_result"
    }
   ],
   "source": [
    "(torch.sum(u**2)*0.001)"
   ]
  },
  {
   "cell_type": "code",
   "execution_count": 134,
   "id": "0efc3b51-021f-4d67-b94b-966c5b750c55",
   "metadata": {},
   "outputs": [],
   "source": [
    "u = model(x)\n",
    "grads = torch.autograd.grad(u, x, grad_outputs=torch.ones_like(u), create_graph=True)[0]\n",
    "u_x = grads[:,0]\n",
    "u_x_grads = torch.autograd.grad(grads, x, grad_outputs=torch.ones_like(u), create_graph=True)[0]\n",
    "u_xx = u_x_grads[:,0]"
   ]
  },
  {
   "cell_type": "code",
   "execution_count": 42,
   "id": "d78471e1-db20-4071-9d94-e15f3760ffdb",
   "metadata": {},
   "outputs": [
    {
     "data": {
      "text/plain": [
       "torch.Size([20001])"
      ]
     },
     "execution_count": 42,
     "metadata": {},
     "output_type": "execute_result"
    }
   ],
   "source": [
    "A = (-u_xx + 100*(x1**2)*(u1))\n",
    "A.shape"
   ]
  },
  {
   "cell_type": "code",
   "execution_count": null,
   "id": "68e725ec-d6f2-4c4e-a514-c4895b11f7c0",
   "metadata": {},
   "outputs": [],
   "source": [
    "A = 100*(x1**2)*(u1)\n",
    "A.shape"
   ]
  },
  {
   "cell_type": "code",
   "execution_count": null,
   "id": "0427ba2d-a48c-4703-97ef-68053ec37fe0",
   "metadata": {},
   "outputs": [],
   "source": [
    "torch.sum(u**2)"
   ]
  },
  {
   "cell_type": "code",
   "execution_count": 124,
   "id": "3ab86d0e-6e98-4f3a-aa69-e1380cc3d966",
   "metadata": {},
   "outputs": [
    {
     "data": {
      "text/plain": [
       "tensor(0.0159, device='cuda:0', grad_fn=<MulBackward0>)"
      ]
     },
     "execution_count": 124,
     "metadata": {},
     "output_type": "execute_result"
    }
   ],
   "source": [
    "normalization(x,model)"
   ]
  },
  {
   "cell_type": "code",
   "execution_count": null,
   "id": "f42a6960-00c2-434c-b4e4-f459071a6567",
   "metadata": {},
   "outputs": [],
   "source": [
    "optimizer = torch.optim.LBFGS(model.parameters(), lr=1.0, max_iter=20)"
   ]
  },
  {
   "cell_type": "code",
   "execution_count": null,
   "id": "984dd382-330b-4ce7-ab15-5b28cc04bac0",
   "metadata": {},
   "outputs": [],
   "source": [
    "for epoch in range(100):\n",
    "    def closure():\n",
    "        optimizer.zero_grad()\n",
    "\n",
    "        # Compute losses\n",
    "        E_loss = HpsiH(x,model)\n",
    "        norm_loss = normalization(x,model)            \n",
    "        L_total = E_loss + norm_loss\n",
    "        \n",
    "        # Backpropagation\n",
    "        L_total.backward()\n",
    "        return L_total\n",
    "\n",
    "    optimizer.step(closure)\n",
    "\n",
    "    # Print loss every 100 epochs\n",
    "    if epoch % 10 == 9:\n",
    "        loss = closure()\n",
    "        print(f\"Epoch {epoch+1}, Loss: {loss.item():.6f}\")\n"
   ]
  },
  {
   "cell_type": "code",
   "execution_count": 136,
   "id": "a92a20f4-6a5a-4ead-92c6-c4287f8fdcac",
   "metadata": {},
   "outputs": [],
   "source": [
    "u1 = u.reshape(-1)\n",
    "x1 = x.reshape(-1)"
   ]
  },
  {
   "cell_type": "code",
   "execution_count": 138,
   "id": "77b01c92-c611-4897-ab84-7be3cc7adf04",
   "metadata": {},
   "outputs": [
    {
     "data": {
      "text/plain": [
       "tensor(1.9954, device='cuda:0', grad_fn=<MulBackward0>)"
      ]
     },
     "execution_count": 138,
     "metadata": {},
     "output_type": "execute_result"
    }
   ],
   "source": [
    "torch.sum((-u_xx*u1+(4.0)*(x1**2)*(u1**2)))*0.001"
   ]
  },
  {
   "cell_type": "code",
   "execution_count": 122,
   "id": "37d70b0a-f659-4389-8aa5-7ff023dc6c63",
   "metadata": {},
   "outputs": [
    {
     "data": {
      "text/plain": [
       "tensor(0.2842, device='cuda:0', grad_fn=<MulBackward0>)"
      ]
     },
     "execution_count": 122,
     "metadata": {},
     "output_type": "execute_result"
    }
   ],
   "source": [
    "(torch.sum((-u_xx*u1+(4.0)*(x1**2)*(u1**2)))*0.001)"
   ]
  },
  {
   "cell_type": "code",
   "execution_count": 126,
   "id": "e5e76610-9f0d-4a49-8471-9173e8c4c2fe",
   "metadata": {},
   "outputs": [
    {
     "data": {
      "text/plain": [
       "tensor(3.9815, device='cuda:0', grad_fn=<PowBackward0>)"
      ]
     },
     "execution_count": 126,
     "metadata": {},
     "output_type": "execute_result"
    }
   ],
   "source": [
    "HpsiH(x,model)"
   ]
  },
  {
   "cell_type": "code",
   "execution_count": null,
   "id": "329f96de-994e-46f7-96c4-8792a1f882d0",
   "metadata": {},
   "outputs": [],
   "source": []
  }
 ],
 "metadata": {
  "kernelspec": {
   "display_name": "Python 3 (ipykernel)",
   "language": "python",
   "name": "python3"
  },
  "language_info": {
   "codemirror_mode": {
    "name": "ipython",
    "version": 3
   },
   "file_extension": ".py",
   "mimetype": "text/x-python",
   "name": "python",
   "nbconvert_exporter": "python",
   "pygments_lexer": "ipython3",
   "version": "3.11.7"
  }
 },
 "nbformat": 4,
 "nbformat_minor": 5
}
