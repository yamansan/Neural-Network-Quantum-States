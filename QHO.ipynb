{
 "cells": [
  {
   "cell_type": "code",
   "execution_count": 1,
   "id": "6d096d0a-8ca9-424f-a8f9-b9433e7d9f25",
   "metadata": {},
   "outputs": [],
   "source": [
    "import torch"
   ]
  },
  {
   "cell_type": "code",
   "execution_count": 2,
   "id": "3053d554-f978-43d5-9747-c80e631c55ae",
   "metadata": {},
   "outputs": [],
   "source": [
    "import torch.nn as nn\n",
    "import torch.optim as optim\n",
    "import torch.nn.functional as F"
   ]
  },
  {
   "cell_type": "code",
   "execution_count": 3,
   "id": "6ec8bb66-d295-4777-aaa9-aeb7109306bc",
   "metadata": {},
   "outputs": [
    {
     "name": "stdout",
     "output_type": "stream",
     "text": [
      "Using device: cuda\n"
     ]
    }
   ],
   "source": [
    "device = torch.device(\"cuda\" if torch.cuda.is_available() else \"cpu\")\n",
    "print(f\"Using device: {device}\")"
   ]
  },
  {
   "cell_type": "code",
   "execution_count": 4,
   "id": "f337d8fa-da6f-4872-8aa3-fa112456b26c",
   "metadata": {},
   "outputs": [],
   "source": [
    "class NNQS(nn.Module):\n",
    "    def __init__(self):\n",
    "        super(NNQS, self).__init__()\n",
    "        self.fc1_u = nn.Linear(1, 50)\n",
    "        self.fc2_u = nn.Linear(50, 50)\n",
    "        self.fc3_u = nn.Linear(50, 50)\n",
    "        self.fc4_u = nn.Linear(50, 1)\n",
    "        #self.fc5_u = nn.Linear(20, 20)\n",
    "        #self.fc6_u = nn.Linear(20, 1)\n",
    "\n",
    "    def forward(self, x):\n",
    "        u = torch.tanh(self.fc1_u(x))\n",
    "        u = torch.tanh(self.fc2_u(u))\n",
    "        u = torch.tanh(self.fc3_u(u))\n",
    "        #u = torch.tanh(self.fc4_u(u))\n",
    "        #u = torch.tanh(self.fc5_u(u))\n",
    "        u = self.fc4_u(u)\n",
    "        return u\n",
    "\n",
    "# Initialize model\n",
    "model = NNQS().to(device)\n"
   ]
  },
  {
   "cell_type": "code",
   "execution_count": 5,
   "id": "b3eaa272-dc76-454c-8323-b9765801f79f",
   "metadata": {},
   "outputs": [],
   "source": [
    "# Ensure CUDA context initialization\n",
    "if device.type == 'cuda':\n",
    "    _ = torch.zeros(1, device=device)  # Force CUDA context initialization\n"
   ]
  },
  {
   "cell_type": "code",
   "execution_count": 6,
   "id": "ba788d6b-25c7-4ad6-9e93-a6b45c4c91d3",
   "metadata": {},
   "outputs": [],
   "source": [
    "x = torch.linspace(-5,5,10001).to(device)\n",
    "x.requires_grad = True\n",
    "if device.type == 'cuda':\n",
    "    _ = torch.zeros(1, device=device)  # Force CUDA context initialization"
   ]
  },
  {
   "cell_type": "code",
   "execution_count": 7,
   "id": "f525278b-599d-4521-889f-1ce96e0bcfa7",
   "metadata": {},
   "outputs": [
    {
     "data": {
      "text/plain": [
       "tensor([[-5.0000],\n",
       "        [-4.9990],\n",
       "        [-4.9980],\n",
       "        ...,\n",
       "        [ 4.9980],\n",
       "        [ 4.9990],\n",
       "        [ 5.0000]], device='cuda:0', grad_fn=<ViewBackward0>)"
      ]
     },
     "execution_count": 7,
     "metadata": {},
     "output_type": "execute_result"
    }
   ],
   "source": [
    "x = x.reshape(-1,1)\n",
    "x"
   ]
  },
  {
   "cell_type": "code",
   "execution_count": 8,
   "id": "96433a5f-a70c-442a-a8aa-d62a6adb6b2f",
   "metadata": {},
   "outputs": [
    {
     "data": {
      "text/plain": [
       "tensor([0.0010], device='cuda:0', grad_fn=<SubBackward0>)"
      ]
     },
     "execution_count": 8,
     "metadata": {},
     "output_type": "execute_result"
    }
   ],
   "source": [
    "x[1]-x[0]"
   ]
  },
  {
   "cell_type": "code",
   "execution_count": 9,
   "id": "b0d3219b-ec30-43ef-bc66-7cd1e8728766",
   "metadata": {
    "scrolled": true
   },
   "outputs": [
    {
     "data": {
      "text/plain": [
       "tensor([[-0.1784],\n",
       "        [-0.1784],\n",
       "        [-0.1784],\n",
       "        ...,\n",
       "        [ 0.0162],\n",
       "        [ 0.0162],\n",
       "        [ 0.0162]], device='cuda:0', grad_fn=<AddmmBackward0>)"
      ]
     },
     "execution_count": 9,
     "metadata": {},
     "output_type": "execute_result"
    }
   ],
   "source": [
    "model(x)"
   ]
  },
  {
   "cell_type": "code",
   "execution_count": 10,
   "id": "cfe5ed12-a233-4fd7-ad97-b6ea723225d3",
   "metadata": {},
   "outputs": [],
   "source": [
    "def HpsiH(x,model):\n",
    "    u = model(x)\n",
    "    u1 = u.reshape(-1)\n",
    "    grads = torch.autograd.grad(u, x, grad_outputs=torch.ones_like(u), create_graph=True)[0]\n",
    "    u_x = grads[:,0]\n",
    "    u_x_grads = torch.autograd.grad(grads, x, grad_outputs=torch.ones_like(u), create_graph=True)[0]\n",
    "    u_xx = u_x_grads[:,0]\n",
    "    x1 = x.reshape(-1)\n",
    "    return torch.sum((-u_xx*u1+(4.0)*(x1**2)*(u1**2))**2)*0.001 + 1000*(u1[0]**2 + u1[-1]**2 + u_x[0]**2+u_x[-1]**2)"
   ]
  },
  {
   "cell_type": "code",
   "execution_count": 11,
   "id": "0c198e0a-e93f-43df-b30d-1c7b5d0df272",
   "metadata": {},
   "outputs": [],
   "source": [
    "def normalization(x,model):\n",
    "    u = model(x)\n",
    "    return 1000*((torch.sum(u**2)*0.001 - torch.tensor(1.0))**2)"
   ]
  },
  {
   "cell_type": "code",
   "execution_count": 55,
   "id": "7552a416-3703-47e9-be27-f4e977e882c8",
   "metadata": {},
   "outputs": [],
   "source": [
    "eta = 0.00001\n",
    "optimizer = optim.Adam(list(model.parameters()), lr=eta)"
   ]
  },
  {
   "cell_type": "code",
   "execution_count": 57,
   "id": "9e7bb4fb-a49b-412d-82d3-305f3417f429",
   "metadata": {},
   "outputs": [
    {
     "name": "stdout",
     "output_type": "stream",
     "text": [
      "epochs:100 , Loss:1.5127758979797363\n",
      "epochs:200 , Loss:1.512773036956787\n",
      "epochs:300 , Loss:1.5127694606781006\n",
      "epochs:400 , Loss:1.5127652883529663\n",
      "epochs:500 , Loss:1.512760877609253\n",
      "epochs:600 , Loss:1.5127556324005127\n",
      "epochs:700 , Loss:1.5127500295639038\n",
      "epochs:800 , Loss:1.5127439498901367\n",
      "epochs:900 , Loss:1.5127376317977905\n",
      "epochs:1000 , Loss:1.5127304792404175\n",
      "epochs:1100 , Loss:1.5127230882644653\n",
      "epochs:1200 , Loss:1.512715458869934\n",
      "epochs:1300 , Loss:1.5127073526382446\n",
      "epochs:1400 , Loss:1.5126988887786865\n",
      "epochs:1500 , Loss:1.5126900672912598\n",
      "epochs:1600 , Loss:1.5126805305480957\n",
      "epochs:1700 , Loss:1.5126712322235107\n",
      "epochs:1800 , Loss:1.5126618146896362\n",
      "epochs:1900 , Loss:1.5126529932022095\n",
      "epochs:2000 , Loss:1.512707233428955\n",
      "epochs:2100 , Loss:1.5126317739486694\n",
      "epochs:2200 , Loss:1.512622594833374\n",
      "epochs:2300 , Loss:1.5126570463180542\n",
      "epochs:2400 , Loss:1.5126041173934937\n",
      "epochs:2500 , Loss:1.5126901865005493\n",
      "epochs:2600 , Loss:1.5125855207443237\n",
      "epochs:2700 , Loss:1.512577772140503\n",
      "epochs:2800 , Loss:1.5125681161880493\n",
      "epochs:2900 , Loss:1.5125586986541748\n",
      "epochs:3000 , Loss:1.5125691890716553\n",
      "epochs:3100 , Loss:1.5125411748886108\n",
      "epochs:3200 , Loss:1.5125384330749512\n",
      "epochs:3300 , Loss:1.5125243663787842\n",
      "epochs:3400 , Loss:1.5125157833099365\n",
      "epochs:3500 , Loss:1.5125234127044678\n",
      "epochs:3600 , Loss:1.5124989748001099\n",
      "epochs:3700 , Loss:1.5124917030334473\n",
      "epochs:3800 , Loss:1.5124825239181519\n",
      "epochs:3900 , Loss:1.5124741792678833\n",
      "epochs:4000 , Loss:1.5125346183776855\n",
      "epochs:4100 , Loss:1.5124578475952148\n",
      "epochs:4200 , Loss:1.5124526023864746\n",
      "epochs:4300 , Loss:1.512442708015442\n",
      "epochs:4400 , Loss:1.512434959411621\n",
      "epochs:4500 , Loss:1.5124274492263794\n",
      "epochs:4600 , Loss:1.5124197006225586\n",
      "epochs:4700 , Loss:1.5125627517700195\n",
      "epochs:4800 , Loss:1.5124046802520752\n",
      "epochs:4900 , Loss:1.5123989582061768\n",
      "epochs:5000 , Loss:1.5123895406723022\n",
      "epochs:5100 , Loss:1.51238214969635\n",
      "epochs:5200 , Loss:1.5123751163482666\n",
      "epochs:5300 , Loss:1.512368083000183\n",
      "epochs:5400 , Loss:1.5123612880706787\n",
      "epochs:5500 , Loss:1.5123543739318848\n",
      "epochs:5600 , Loss:1.5123547315597534\n",
      "epochs:5700 , Loss:1.5123404264450073\n",
      "epochs:5800 , Loss:1.5123353004455566\n",
      "epochs:5900 , Loss:1.5123268365859985\n",
      "epochs:6000 , Loss:1.5123201608657837\n",
      "epochs:6100 , Loss:1.512319564819336\n",
      "epochs:6200 , Loss:1.5123074054718018\n",
      "epochs:6300 , Loss:1.5123025178909302\n",
      "epochs:6400 , Loss:1.5122946500778198\n",
      "epochs:6500 , Loss:1.5122888088226318\n",
      "epochs:6600 , Loss:1.5123064517974854\n",
      "epochs:6700 , Loss:1.512276291847229\n",
      "epochs:6800 , Loss:1.5122708082199097\n",
      "epochs:6900 , Loss:1.5122638940811157\n",
      "epochs:7000 , Loss:1.5123755931854248\n",
      "epochs:7100 , Loss:1.512251853942871\n",
      "epochs:7200 , Loss:1.5122467279434204\n",
      "epochs:7300 , Loss:1.5122406482696533\n",
      "epochs:7400 , Loss:1.5122345685958862\n",
      "epochs:7500 , Loss:1.5122289657592773\n",
      "epochs:7600 , Loss:1.5122231245040894\n",
      "epochs:7700 , Loss:1.5122194290161133\n",
      "epochs:7800 , Loss:1.5122116804122925\n",
      "epochs:7900 , Loss:1.5122065544128418\n",
      "epochs:8000 , Loss:1.5122010707855225\n",
      "epochs:8100 , Loss:1.5123425722122192\n",
      "epochs:8200 , Loss:1.5121902227401733\n",
      "epochs:8300 , Loss:1.5121865272521973\n",
      "epochs:8400 , Loss:1.5121798515319824\n",
      "epochs:8500 , Loss:1.5121746063232422\n",
      "epochs:8600 , Loss:1.5121698379516602\n",
      "epochs:8700 , Loss:1.5121644735336304\n",
      "epochs:8800 , Loss:1.5121593475341797\n",
      "epochs:8900 , Loss:1.5121599435806274\n",
      "epochs:9000 , Loss:1.512149453163147\n",
      "epochs:9100 , Loss:1.5121467113494873\n",
      "epochs:9200 , Loss:1.5121431350708008\n",
      "epochs:9300 , Loss:1.5121347904205322\n",
      "epochs:9400 , Loss:1.512131929397583\n",
      "epochs:9500 , Loss:1.5121251344680786\n",
      "epochs:9600 , Loss:1.5121207237243652\n",
      "epochs:9700 , Loss:1.5122363567352295\n",
      "epochs:9800 , Loss:1.5121113061904907\n",
      "epochs:9900 , Loss:1.5121068954467773\n",
      "epochs:10000 , Loss:1.5121405124664307\n"
     ]
    }
   ],
   "source": [
    "for epoch in range(10000):\n",
    "    E_loss = HpsiH(x,model)\n",
    "    norm_loss = normalization(x,model)            \n",
    "    optimizer.zero_grad()\n",
    "    L_total = E_loss + norm_loss\n",
    "    \n",
    "    # Step 3: Backpropagate to compute gradients\n",
    "    L_total.backward()\n",
    "    \n",
    "    # Step 4: Perform the gradient descent step\n",
    "    optimizer.step()\n",
    "    \n",
    "    if epoch%100==99:\n",
    "        print(f\"epochs:{epoch+1} , Loss:{L_total}\")"
   ]
  },
  {
   "cell_type": "code",
   "execution_count": 59,
   "id": "87cb4825-424f-4558-b797-2ead7d3b033b",
   "metadata": {},
   "outputs": [],
   "source": [
    "u_pred = model(x).reshape(-1)"
   ]
  },
  {
   "cell_type": "code",
   "execution_count": 61,
   "id": "cbb2440f-9ccc-4c65-9f39-c5dac7902844",
   "metadata": {},
   "outputs": [
    {
     "data": {
      "text/plain": [
       "tensor([-9.1597e-05, -9.1642e-05, -9.1732e-05,  ..., -1.4886e-05,\n",
       "        -1.4797e-05, -1.4737e-05], device='cuda:0', grad_fn=<ViewBackward0>)"
      ]
     },
     "execution_count": 61,
     "metadata": {},
     "output_type": "execute_result"
    }
   ],
   "source": [
    "u_pred"
   ]
  },
  {
   "cell_type": "code",
   "execution_count": 63,
   "id": "53202f4d-6671-4da8-8dad-867b79baac55",
   "metadata": {},
   "outputs": [
    {
     "data": {
      "image/png": "[encoded data removed]",
      "text/plain": [
       "<Figure size 1200x600 with 1 Axes>"
      ]
     },
     "metadata": {},
     "output_type": "display_data"
    }
   ],
   "source": [
    "import numpy as np\n",
    "import matplotlib.pyplot as plt\n",
    "\n",
    "# Assuming u_pred is already converted to a numpy array\n",
    "u_pred = u_pred.detach().cpu().numpy()\n",
    "\n",
    "# Create x_array\n",
    "x_array = np.linspace(-5, 5, 10001)\n",
    "\n",
    "# Plot\n",
    "plt.figure(figsize=(12, 6))\n",
    "plt.plot(x_array, -1*u_pred, label='Prediction $u(x)$', color='blue', linewidth=2)\n",
    "\n",
    "# Add labels, title, and legend\n",
    "plt.xlabel('$x$', fontsize=14)\n",
    "plt.ylabel('$u(x)$', fontsize=14)\n",
    "plt.title('Predicted $u(x)$ vs. $x$', fontsize=16)\n",
    "plt.legend(fontsize=12)\n",
    "plt.grid(True)\n",
    "\n",
    "# Show the plot\n",
    "plt.show()\n"
   ]
  },
  {
   "cell_type": "code",
   "execution_count": 65,
   "id": "a1b50819-21f6-400e-9e24-6ff8d374c6ab",
   "metadata": {},
   "outputs": [],
   "source": [
    "u = model(x)"
   ]
  },
  {
   "cell_type": "code",
   "execution_count": 67,
   "id": "f1f42f11-9595-4146-9aca-d497ad135734",
   "metadata": {},
   "outputs": [
    {
     "data": {
      "text/plain": [
       "tensor(1.5124, device='cuda:0', grad_fn=<DivBackward0>)"
      ]
     },
     "execution_count": 67,
     "metadata": {},
     "output_type": "execute_result"
    }
   ],
   "source": [
    "HpsiH(x,model)/(torch.sum(u**2)*0.001)"
   ]
  },
  {
   "cell_type": "code",
   "execution_count": 69,
   "id": "3c9eb0fd-3fd2-40f0-8047-8869bd9f7912",
   "metadata": {},
   "outputs": [
    {
     "data": {
      "text/plain": [
       "tensor(0.9987, device='cuda:0', grad_fn=<MulBackward0>)"
      ]
     },
     "execution_count": 69,
     "metadata": {},
     "output_type": "execute_result"
    }
   ],
   "source": [
    "(torch.sum(u**2)*0.001)"
   ]
  },
  {
   "cell_type": "code",
   "execution_count": 71,
   "id": "0efc3b51-021f-4d67-b94b-966c5b750c55",
   "metadata": {},
   "outputs": [],
   "source": [
    "u = model(x)\n",
    "grads = torch.autograd.grad(u, x, grad_outputs=torch.ones_like(u), create_graph=True)[0]\n",
    "u_x = grads[:,0]\n",
    "u_x_grads = torch.autograd.grad(grads, x, grad_outputs=torch.ones_like(u), create_graph=True)[0]\n",
    "u_xx = u_x_grads[:,0]"
   ]
  },
  {
   "cell_type": "code",
   "execution_count": null,
   "id": "d78471e1-db20-4071-9d94-e15f3760ffdb",
   "metadata": {},
   "outputs": [],
   "source": [
    "A = (-u_xx + 100*(x1**2)*(u1))\n",
    "A.shape"
   ]
  },
  {
   "cell_type": "code",
   "execution_count": null,
   "id": "68e725ec-d6f2-4c4e-a514-c4895b11f7c0",
   "metadata": {},
   "outputs": [],
   "source": [
    "A = 100*(x1**2)*(u1)\n",
    "A.shape"
   ]
  },
  {
   "cell_type": "code",
   "execution_count": null,
   "id": "0427ba2d-a48c-4703-97ef-68053ec37fe0",
   "metadata": {},
   "outputs": [],
   "source": [
    "torch.sum(u**2)"
   ]
  },
  {
   "cell_type": "code",
   "execution_count": null,
   "id": "3ab86d0e-6e98-4f3a-aa69-e1380cc3d966",
   "metadata": {},
   "outputs": [],
   "source": [
    "normalization(x,model)"
   ]
  },
  {
   "cell_type": "code",
   "execution_count": null,
   "id": "f42a6960-00c2-434c-b4e4-f459071a6567",
   "metadata": {},
   "outputs": [],
   "source": [
    "optimizer = torch.optim.LBFGS(model.parameters(), lr=1.0, max_iter=20)"
   ]
  },
  {
   "cell_type": "code",
   "execution_count": null,
   "id": "984dd382-330b-4ce7-ab15-5b28cc04bac0",
   "metadata": {},
   "outputs": [],
   "source": [
    "for epoch in range(100):\n",
    "    def closure():\n",
    "        optimizer.zero_grad()\n",
    "\n",
    "        # Compute losses\n",
    "        E_loss = HpsiH(x,model)\n",
    "        norm_loss = normalization(x,model)            \n",
    "        L_total = E_loss + norm_loss\n",
    "        \n",
    "        # Backpropagation\n",
    "        L_total.backward()\n",
    "        return L_total\n",
    "\n",
    "    optimizer.step(closure)\n",
    "\n",
    "    # Print loss every 100 epochs\n",
    "    if epoch % 10 == 9:\n",
    "        loss = closure()\n",
    "        print(f\"Epoch {epoch+1}, Loss: {loss.item():.6f}\")\n"
   ]
  },
  {
   "cell_type": "code",
   "execution_count": 73,
   "id": "a92a20f4-6a5a-4ead-92c6-c4287f8fdcac",
   "metadata": {},
   "outputs": [],
   "source": [
    "u1 = u.reshape(-1)\n",
    "x1 = x.reshape(-1)"
   ]
  },
  {
   "cell_type": "code",
   "execution_count": 75,
   "id": "77b01c92-c611-4897-ab84-7be3cc7adf04",
   "metadata": {},
   "outputs": [
    {
     "data": {
      "text/plain": [
       "tensor(2.4033, device='cuda:0', grad_fn=<MulBackward0>)"
      ]
     },
     "execution_count": 75,
     "metadata": {},
     "output_type": "execute_result"
    }
   ],
   "source": [
    "torch.sum((-u_xx*u1+(4.0)*(x1**2)*(u1**2)))*0.001"
   ]
  },
  {
   "cell_type": "code",
   "execution_count": null,
   "id": "37d70b0a-f659-4389-8aa5-7ff023dc6c63",
   "metadata": {},
   "outputs": [],
   "source": []
  }
 ],
 "metadata": {
  "kernelspec": {
   "display_name": "Python 3 (ipykernel)",
   "language": "python",
   "name": "python3"
  },
  "language_info": {
   "codemirror_mode": {
    "name": "ipython",
    "version": 3
   },
   "file_extension": ".py",
   "mimetype": "text/x-python",
   "name": "python",
   "nbconvert_exporter": "python",
   "pygments_lexer": "ipython3",
   "version": "3.11.7"
  }
 },
 "nbformat": 4,
 "nbformat_minor": 5
}
