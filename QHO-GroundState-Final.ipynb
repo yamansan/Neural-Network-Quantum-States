{
 "cells": [
  {
   "cell_type": "markdown",
   "id": "60d5ee09-11b5-424e-95a7-5019d6045c87",
   "metadata": {},
   "source": [
    "# Neural Network Quantum State - Simple Harmonic Oscillator"
   ]
  },
  {
   "cell_type": "code",
   "execution_count": 2,
   "id": "6d096d0a-8ca9-424f-a8f9-b9433e7d9f25",
   "metadata": {},
   "outputs": [],
   "source": [
    "import torch\n",
    "import torch.nn as nn\n",
    "import torch.optim as optim\n",
    "import torch.nn.functional as F\n",
    "import numpy as np\n",
    "import matplotlib.pyplot as plt"
   ]
  },
  {
   "cell_type": "code",
   "execution_count": 3,
   "id": "6ec8bb66-d295-4777-aaa9-aeb7109306bc",
   "metadata": {},
   "outputs": [
    {
     "name": "stdout",
     "output_type": "stream",
     "text": [
      "Using device: cuda\n"
     ]
    }
   ],
   "source": [
    "# Assigning the GPU as the device\n",
    "device = torch.device(\"cuda\" if torch.cuda.is_available() else \"cpu\")\n",
    "print(f\"Using device: {device}\")"
   ]
  },
  {
   "cell_type": "code",
   "execution_count": 6,
   "id": "1b23d78c-914d-4735-aa7f-8b12ab7d27db",
   "metadata": {},
   "outputs": [
    {
     "data": {
      "text/plain": [
       "tensor([[-10.0000],\n",
       "        [ -9.9990],\n",
       "        [ -9.9980],\n",
       "        ...,\n",
       "        [  9.9980],\n",
       "        [  9.9990],\n",
       "        [ 10.0000]], device='cuda:0', grad_fn=<ViewBackward0>)"
      ]
     },
     "execution_count": 6,
     "metadata": {},
     "output_type": "execute_result"
    }
   ],
   "source": [
    "#Defining the space grid x\n",
    "x_min = -10.0\n",
    "x_max = 10.0\n",
    "N = 20001\n",
    "x = torch.linspace(x_min,x_max,N).to(device)\n",
    "x.requires_grad = True\n",
    "#Converting x into N x 1 tensor.\n",
    "x = x.reshape(-1,1)\n",
    "x"
   ]
  },
  {
   "cell_type": "code",
   "execution_count": 8,
   "id": "792f71e6-f02d-4194-9dc3-34e0d61d530e",
   "metadata": {},
   "outputs": [
    {
     "data": {
      "text/plain": [
       "0.0010004043579101562"
      ]
     },
     "execution_count": 8,
     "metadata": {},
     "output_type": "execute_result"
    }
   ],
   "source": [
    "#Finding the infinitesimal difference between two consective x grid points. \n",
    "dx = x[1]-x[0]\n",
    "dx = dx.item()\n",
    "dx #We will use it as the dx for doing integrations later."
   ]
  },
  {
   "cell_type": "markdown",
   "id": "17750cb0-61cc-4f7a-a09c-b26f7bfc3fb0",
   "metadata": {},
   "source": [
    "## Defining the Neural Network for approximating the quantum states."
   ]
  },
  {
   "cell_type": "code",
   "execution_count": 11,
   "id": "f337d8fa-da6f-4872-8aa3-fa112456b26c",
   "metadata": {},
   "outputs": [],
   "source": [
    "class NNQS(nn.Module):\n",
    "    def __init__(self):\n",
    "        super(NNQS, self).__init__()\n",
    "        self.fc1_u = nn.Linear(1, 50)\n",
    "        self.fc2_u = nn.Linear(50, 50)\n",
    "        self.fc3_u = nn.Linear(50, 1)\n",
    "        \n",
    "    def forward(self, x):\n",
    "        u = F.softplus(self.fc1_u(x))\n",
    "        u = F.softplus(self.fc2_u(u))\n",
    "        u = self.fc3_u(u)\n",
    "        return u"
   ]
  },
  {
   "cell_type": "markdown",
   "id": "aaab6c3f-b39b-4f4f-8eee-8dec5c7a69d2",
   "metadata": {},
   "source": [
    "If we are loading an already trained model, we will use this next cell of code to load the trained model."
   ]
  },
  {
   "cell_type": "code",
   "execution_count": 14,
   "id": "b19794c9-1b7e-425f-a69d-bdcebb60123d",
   "metadata": {},
   "outputs": [
    {
     "name": "stdout",
     "output_type": "stream",
     "text": [
      "Model parameters loaded successfully.\n"
     ]
    },
    {
     "name": "stderr",
     "output_type": "stream",
     "text": [
      "C:\\Users\\yaman\\AppData\\Local\\Temp\\ipykernel_8352\\2143802673.py:10: FutureWarning: You are using `torch.load` with `weights_only=False` (the current default value), which uses the default pickle module implicitly. It is possible to construct malicious pickle data which will execute arbitrary code during unpickling (See https://github.com/pytorch/pytorch/blob/main/SECURITY.md#untrusted-models for more details). In a future release, the default value for `weights_only` will be flipped to `True`. This limits the functions that could be executed during unpickling. Arbitrary objects will no longer be allowed to be loaded via this mode unless they are explicitly allowlisted by the user via `torch.serialization.add_safe_globals`. We recommend you start setting `weights_only=True` for any use case where you don't have full control of the loaded file. Please open an issue on GitHub for any issues related to this experimental feature.\n",
      "  model.load_state_dict(torch.load(model_save_path))\n"
     ]
    }
   ],
   "source": [
    "# This block of code loads a pretrained model if we have already trained it and saved it in \"nnqs_ground_state.pth\".\n",
    "\n",
    "# Initialize the model\n",
    "model = NNQS().to(device)\n",
    "\n",
    "#Here we can load a pretrained model (that I have trained earlier) if we want or we can leave it and train it ourselves again.\n",
    "model_save_path = \"nnqs_ground_state.pth\"\n",
    "\n",
    "# Load the state dictionary\n",
    "model.load_state_dict(torch.load(model_save_path))\n",
    "\n",
    "# Set the model to evaluation mode (optional, for inference)\n",
    "model.eval()\n",
    "\n",
    "print(\"Model parameters loaded successfully.\")"
   ]
  },
  {
   "cell_type": "markdown",
   "id": "d8005815-1050-4f5b-82b0-bc9156e2e61f",
   "metadata": {},
   "source": [
    "If we are training the model for the first time, we skip the above cell of code continue from here."
   ]
  },
  {
   "cell_type": "code",
   "execution_count": null,
   "id": "d4f34e52-e36f-4c0c-9150-fa1ee91890e0",
   "metadata": {},
   "outputs": [],
   "source": [
    "#Initialize the model with arbitrary parameters which will be trained later.\n",
    "model = NNQS().to(device)"
   ]
  },
  {
   "cell_type": "markdown",
   "id": "9baac5aa-bd82-45cd-a177-d085e7f2907f",
   "metadata": {},
   "source": [
    "Now we define the loss function i.e. the energy function which calculates the expectation value of energy for the quantum states approximated by the neural network. We are using the variational approximation of quantum mechanics to obtain the ground state."
   ]
  },
  {
   "cell_type": "code",
   "execution_count": 16,
   "id": "cfe5ed12-a233-4fd7-ad97-b6ea723225d3",
   "metadata": {},
   "outputs": [],
   "source": [
    "w = 2.0\n",
    "def energy(x,model): # This is our main loss function which is calculating the expected energy of the neural network state.\n",
    "    u = model(x)\n",
    "    u1 = u.reshape(-1)\n",
    "    grads = torch.autograd.grad(u, x, grad_outputs=torch.ones_like(u), create_graph=True)[0]\n",
    "    u_x = grads[:,0]\n",
    "    u_x_grads = torch.autograd.grad(grads, x, grad_outputs=torch.ones_like(u), create_graph=True)[0]\n",
    "    u_xx = u_x_grads[:,0]\n",
    "    x1 = x.reshape(-1)\n",
    "    return torch.sum((-u_xx*u1+(w**2)*(x1**2)*(u1**2)))*dx"
   ]
  },
  {
   "cell_type": "code",
   "execution_count": 18,
   "id": "0c198e0a-e93f-43df-b30d-1c7b5d0df272",
   "metadata": {},
   "outputs": [],
   "source": [
    "def normalization(x,model): # This will be a regularization function which ensures that the wavefunction will be normalized to 1.\n",
    "    u = model(x)\n",
    "    return 1000*((torch.sum(u**2)*dx- torch.tensor(1.0))**2)"
   ]
  },
  {
   "cell_type": "code",
   "execution_count": 20,
   "id": "7552a416-3703-47e9-be27-f4e977e882c8",
   "metadata": {},
   "outputs": [],
   "source": [
    "eta = 0.001\n",
    "optimizer = optim.Adam(list(model.parameters()), lr=eta)"
   ]
  },
  {
   "cell_type": "code",
   "execution_count": 35,
   "id": "eed7ef65-94e3-4f63-b237-250b5360b846",
   "metadata": {},
   "outputs": [
    {
     "name": "stdout",
     "output_type": "stream",
     "text": [
      "epochs:100 , Loss:2.012955665588379\n",
      "epochs:200 , Loss:2.0128068923950195\n",
      "epochs:300 , Loss:2.0126166343688965\n",
      "epochs:400 , Loss:2.012371063232422\n",
      "epochs:500 , Loss:2.0120749473571777\n",
      "epochs:600 , Loss:2.01175856590271\n",
      "epochs:700 , Loss:2.0114309787750244\n",
      "epochs:800 , Loss:2.011054515838623\n",
      "epochs:900 , Loss:2.0103516578674316\n",
      "epochs:1000 , Loss:2.009632110595703\n",
      "epochs:1100 , Loss:2.0090911388397217\n",
      "epochs:1200 , Loss:2.008629083633423\n",
      "epochs:1300 , Loss:2.0129950046539307\n",
      "epochs:1400 , Loss:2.009310722351074\n",
      "epochs:1500 , Loss:2.0076308250427246\n",
      "epochs:1600 , Loss:2.0073015689849854\n",
      "epochs:1700 , Loss:2.0083906650543213\n",
      "epochs:1800 , Loss:2.006895065307617\n",
      "epochs:1900 , Loss:2.006544589996338\n",
      "epochs:2000 , Loss:2.012016534805298\n",
      "epochs:2100 , Loss:2.0061042308807373\n",
      "epochs:2200 , Loss:2.0096585750579834\n",
      "epochs:2300 , Loss:2.005725622177124\n",
      "epochs:2400 , Loss:2.0055243968963623\n",
      "epochs:2500 , Loss:2.005396842956543\n",
      "epochs:2600 , Loss:2.005192756652832\n",
      "epochs:2700 , Loss:2.010815143585205\n",
      "epochs:2800 , Loss:2.0048880577087402\n",
      "epochs:2900 , Loss:2.0047223567962646\n",
      "epochs:3000 , Loss:2.0052499771118164\n",
      "epochs:3100 , Loss:2.004453659057617\n",
      "epochs:3200 , Loss:2.004408359527588\n",
      "epochs:3300 , Loss:2.0042083263397217\n",
      "epochs:3400 , Loss:2.00407338142395\n",
      "epochs:3500 , Loss:2.0071322917938232\n",
      "epochs:3600 , Loss:2.0038511753082275\n",
      "epochs:3700 , Loss:2.0037295818328857\n",
      "epochs:3800 , Loss:2.0036373138427734\n",
      "epochs:3900 , Loss:2.003525495529175\n",
      "epochs:4000 , Loss:2.0040862560272217\n",
      "epochs:4100 , Loss:2.0033392906188965\n",
      "epochs:4200 , Loss:2.003235340118408\n",
      "epochs:4300 , Loss:2.0031721591949463\n",
      "epochs:4400 , Loss:2.003079652786255\n",
      "epochs:4500 , Loss:2.002986192703247\n",
      "epochs:4600 , Loss:2.0051515102386475\n",
      "epochs:4700 , Loss:2.002840042114258\n",
      "epochs:4800 , Loss:2.002755880355835\n",
      "epochs:4900 , Loss:2.0119919776916504\n",
      "epochs:5000 , Loss:2.002614974975586\n",
      "epochs:5100 , Loss:2.0025360584259033\n",
      "epochs:5200 , Loss:2.0024831295013428\n",
      "epochs:5300 , Loss:2.002408742904663\n",
      "epochs:5400 , Loss:2.0028183460235596\n",
      "epochs:5500 , Loss:2.0022826194763184\n",
      "epochs:5600 , Loss:2.0022122859954834\n",
      "epochs:5700 , Loss:2.002202033996582\n",
      "epochs:5800 , Loss:2.0020978450775146\n",
      "epochs:5900 , Loss:2.0037081241607666\n",
      "epochs:6000 , Loss:2.0019874572753906\n",
      "epochs:6100 , Loss:2.0198616981506348\n",
      "epochs:6200 , Loss:2.001882314682007\n",
      "epochs:6300 , Loss:2.002100944519043\n",
      "epochs:6400 , Loss:2.001781940460205\n",
      "epochs:6500 , Loss:2.0017263889312744\n",
      "epochs:6600 , Loss:2.001901865005493\n",
      "epochs:6700 , Loss:2.001631498336792\n",
      "epochs:6800 , Loss:2.0021474361419678\n",
      "epochs:6900 , Loss:2.0015435218811035\n",
      "epochs:7000 , Loss:2.0581047534942627\n",
      "epochs:7100 , Loss:2.0014607906341553\n",
      "epochs:7200 , Loss:2.0014119148254395\n",
      "epochs:7300 , Loss:2.0013811588287354\n",
      "epochs:7400 , Loss:2.001333236694336\n",
      "epochs:7500 , Loss:2.001415967941284\n",
      "epochs:7600 , Loss:2.0012576580047607\n",
      "epochs:7700 , Loss:2.024475574493408\n",
      "epochs:7800 , Loss:2.001185655593872\n",
      "epochs:7900 , Loss:2.0011444091796875\n",
      "epochs:8000 , Loss:2.001149892807007\n",
      "epochs:8100 , Loss:2.001082181930542\n",
      "epochs:8200 , Loss:2.0010440349578857\n",
      "epochs:8300 , Loss:2.0011518001556396\n",
      "epochs:8400 , Loss:2.000981330871582\n",
      "epochs:8500 , Loss:2.0044198036193848\n",
      "epochs:8600 , Loss:2.000920534133911\n",
      "epochs:8700 , Loss:2.000885486602783\n",
      "epochs:8800 , Loss:2.0008704662323\n",
      "epochs:8900 , Loss:2.0008339881896973\n",
      "epochs:9000 , Loss:2.0008013248443604\n",
      "epochs:9100 , Loss:2.0009217262268066\n",
      "epochs:9200 , Loss:2.000746488571167\n",
      "epochs:9300 , Loss:2.0041122436523438\n",
      "epochs:9400 , Loss:2.0006942749023438\n",
      "epochs:9500 , Loss:2.0130677223205566\n",
      "epochs:9600 , Loss:2.000645399093628\n",
      "epochs:9700 , Loss:2.000626802444458\n",
      "epochs:9800 , Loss:2.0006067752838135\n",
      "epochs:9900 , Loss:2.000565528869629\n",
      "epochs:10000 , Loss:2.000601053237915\n"
     ]
    }
   ],
   "source": [
    "def train_model(model,x,eta,optimizer):\n",
    "    for epoch in range(10000):\n",
    "        E_loss = HpsiH(x,model)\n",
    "        norm_loss = normalization(x,model)            \n",
    "        optimizer.zero_grad()\n",
    "        L_total = E_loss + norm_loss\n",
    "        \n",
    "        # Step 3: Backpropagate to compute gradients\n",
    "        L_total.backward()\n",
    "        \n",
    "        # Step 4: Perform the gradient descent step\n",
    "        optimizer.step()\n",
    "        \n",
    "        if epoch%100==99:\n",
    "            print(f\"epochs:{epoch+1} , Loss:{L_total}\")\n",
    "    return model\n",
    "\n",
    "trained_model = train_model(model,x,eta,optimizer)"
   ]
  },
  {
   "cell_type": "code",
   "execution_count": 22,
   "id": "c13b1157-63ee-446f-bc5e-6f9ce119d3c3",
   "metadata": {},
   "outputs": [],
   "source": [
    "u_pred = model(x).reshape(-1)"
   ]
  },
  {
   "cell_type": "code",
   "execution_count": 23,
   "id": "53202f4d-6671-4da8-8dad-867b79baac55",
   "metadata": {},
   "outputs": [],
   "source": [
    "u_pred = model(x).reshape(-1)\n",
    "# Assuming u_pred is already converted to a numpy array\n",
    "u_plot = u_pred.detach().cpu().numpy()\n",
    "\n",
    "# Create x_array\n",
    "x_array = np.linspace(x_min, x_max, N)"
   ]
  },
  {
   "cell_type": "markdown",
   "id": "de779785-d4fd-4007-8cc5-0d7990cb903c",
   "metadata": {},
   "source": [
    "Let us compare the actual solution with the predicted solution from neural network."
   ]
  },
  {
   "cell_type": "code",
   "execution_count": 313,
   "id": "24c680ec-3d21-468f-a32b-adc861c920b4",
   "metadata": {},
   "outputs": [
    {
     "data": {
      "image/png": "[encoded data removed]",
      "text/plain": [
       "<Figure size 1200x600 with 1 Axes>"
      ]
     },
     "metadata": {},
     "output_type": "display_data"
    },
    {
     "data": {
      "text/plain": [
       "<Figure size 640x480 with 0 Axes>"
      ]
     },
     "metadata": {},
     "output_type": "display_data"
    }
   ],
   "source": [
    "import numpy as np\n",
    "from scipy.special import hermite, factorial\n",
    "\n",
    "# Below is the function that calculates the exact n^th state of the Simple Harmonic Osciallator. For convention, n=0 is the ground state.\n",
    "def psi_n(X, n, m, omega, hbar):\n",
    "    \"\"\"\n",
    "    Calculate the wavefunction psi_n(x) for the quantum harmonic oscillator.\n",
    "\n",
    "    Parameters:\n",
    "    x : float or ndarray\n",
    "        Position where the wavefunction is evaluated.\n",
    "    n : int\n",
    "        Quantum number (n = 0, 1, 2, ...).\n",
    "    m : float\n",
    "        Mass of the particle.\n",
    "    omega : float\n",
    "        Angular frequency of the oscillator.\n",
    "    hbar : float\n",
    "        Reduced Planck's constant.\n",
    "\n",
    "    Returns:\n",
    "    float or ndarray\n",
    "        Value of the wavefunction at position x.\n",
    "    \"\"\"\n",
    "    # Pre-factor\n",
    "    norm_factor = (1 / np.sqrt(2**n * factorial(n))) * (m * omega / (np.pi * hbar))**0.25\n",
    "\n",
    "    # Exponential term\n",
    "    exp_factor = np.exp(-m * omega * X**2 / (2 * hbar))\n",
    "\n",
    "    # Hermite polynomial\n",
    "    H_n = hermite(n)\n",
    "    hermite_term = H_n(np.sqrt(m * omega / hbar) * X)\n",
    "\n",
    "    # Wavefunction\n",
    "    psi = norm_factor * exp_factor * hermite_term\n",
    "\n",
    "    return psi\n",
    "\n",
    "# Example usage\n",
    "m = 1.0      # Mass of the particle\n",
    "omega = 2.0  # Angular frequency\n",
    "hbar = 1.0   # Reduced Planck's constant\n",
    "X = np.linspace(-10, 10, 20001)  # Position array\n",
    "n = 0        # Quantum number\n",
    "\n",
    "# Calculate psi_n(x) for the given n\n",
    "wavefunction = psi_n(X, n, m, omega, hbar)\n",
    "\n",
    "# Optional: Plotting\n",
    "import matplotlib.pyplot as plt\n",
    "plt.figure(figsize=(12, 6))\n",
    "\n",
    "plt.plot(X, wavefunction, label=\"Actual\")\n",
    "plt.plot(X, u_plot, label=\"Neural Network Prediction\", linestyle='--')\n",
    "\n",
    "plt.title(\"Quantum Harmonic Oscillator Ground State Wavefunction\")\n",
    "plt.xlabel(\"x\")\n",
    "plt.ylabel(f\"$\\psi_{n}(x)$\")\n",
    "plt.legend()\n",
    "plt.grid()\n",
    "plt.show()\n",
    "plt.savefig(\"quantum_harmonic_oscillator_ground_state.png\", dpi=300, bbox_inches='tight')\n"
   ]
  },
  {
   "cell_type": "code",
   "execution_count": 37,
   "id": "9978b67e-85b5-439b-9a36-600511b820cc",
   "metadata": {},
   "outputs": [
    {
     "name": "stdout",
     "output_type": "stream",
     "text": [
      "Model parameters saved to nnqs_ground_state.pth\n"
     ]
    }
   ],
   "source": [
    "#After training, we should save the model parameters.\n",
    "# Specify the path to save the model parameters\n",
    "model_save_path = \"nnqs_ground_state.pth\"\n",
    "\n",
    "# Save the model's state dictionary\n",
    "torch.save(model.state_dict(), model_save_path)\n",
    "\n",
    "print(f\"Model parameters saved to {model_save_path}\")\n"
   ]
  },
  {
   "cell_type": "code",
   "execution_count": 32,
   "id": "a6fde19b-d2d0-4349-92fd-0ce41128ec70",
   "metadata": {},
   "outputs": [
    {
     "data": {
      "text/plain": [
       "tensor([-1.6717e-06, -1.6715e-06, -1.6714e-06,  ...,  2.5784e-08,\n",
       "         2.5739e-08,  2.5694e-08], device='cuda:0', grad_fn=<SelectBackward0>)"
      ]
     },
     "execution_count": 32,
     "metadata": {},
     "output_type": "execute_result"
    }
   ],
   "source": [
    "u_ground = model(x)\n",
    "u_grad = torch.autograd.grad(u_ground, x, grad_outputs=torch.ones_like(u_ground), create_graph=True)[0]\n",
    "u_gradgrad = torch.autograd.grad(u_grad, x, grad_outputs=torch.ones_like(u_ground), create_graph=True)[0]\n",
    "u_ground_xx = u_gradgrad[:,0]\n",
    "u_ground_xx"
   ]
  },
  {
   "cell_type": "markdown",
   "id": "aaaa9f11-651b-431f-afef-11e84eb52b49",
   "metadata": {},
   "source": [
    "Let's store the ground state in u_g thus obtaine and detach it since we won't need to train it for subsequent use."
   ]
  },
  {
   "cell_type": "code",
   "execution_count": 35,
   "id": "ad05bd12-971c-4811-8414-7e56ec69e61d",
   "metadata": {},
   "outputs": [],
   "source": [
    "u_g = u_ground.clone().detach()\n",
    "u_g_xx = u_ground_xx.clone().detach()"
   ]
  },
  {
   "cell_type": "markdown",
   "id": "841d58f9-513e-404a-a133-9dd92457e2c6",
   "metadata": {},
   "source": [
    "# 1st Excited State"
   ]
  },
  {
   "cell_type": "code",
   "execution_count": 37,
   "id": "08ac127a-607e-4aea-b064-b51112744d87",
   "metadata": {},
   "outputs": [],
   "source": [
    "#Initialize a model for the first excited state\n",
    "model_excited = NNQS().to(device)"
   ]
  },
  {
   "cell_type": "markdown",
   "id": "9a21058b-a542-4449-8451-051d019f431a",
   "metadata": {},
   "source": [
    "If we are loading an already trained model, we will use this next cell of code to load the trained model. We will skip it otherwise."
   ]
  },
  {
   "cell_type": "code",
   "execution_count": 40,
   "id": "865dc92e-a4ab-4797-97f8-4d890c94507e",
   "metadata": {},
   "outputs": [
    {
     "name": "stdout",
     "output_type": "stream",
     "text": [
      "Model parameters loaded successfully.\n"
     ]
    },
    {
     "name": "stderr",
     "output_type": "stream",
     "text": [
      "C:\\Users\\yaman\\AppData\\Local\\Temp\\ipykernel_8352\\2589403285.py:8: FutureWarning: You are using `torch.load` with `weights_only=False` (the current default value), which uses the default pickle module implicitly. It is possible to construct malicious pickle data which will execute arbitrary code during unpickling (See https://github.com/pytorch/pytorch/blob/main/SECURITY.md#untrusted-models for more details). In a future release, the default value for `weights_only` will be flipped to `True`. This limits the functions that could be executed during unpickling. Arbitrary objects will no longer be allowed to be loaded via this mode unless they are explicitly allowlisted by the user via `torch.serialization.add_safe_globals`. We recommend you start setting `weights_only=True` for any use case where you don't have full control of the loaded file. Please open an issue on GitHub for any issues related to this experimental feature.\n",
      "  model_excited.load_state_dict(torch.load(model_save_path))\n"
     ]
    }
   ],
   "source": [
    "# Initialize the model\n",
    "model_excited = NNQS().to(device)\n",
    "\n",
    "#Here we can load a pretrained model (that I have trained earlier) if we want or we can leave it and train it ourselves again.\n",
    "model_save_path = \"nnqs_excited1_state.pth\"\n",
    "\n",
    "# Load the state dictionary\n",
    "model_excited.load_state_dict(torch.load(model_save_path))\n",
    "\n",
    "# Set the model to evaluation mode (optional, for inference)\n",
    "model_excited.eval()\n",
    "\n",
    "print(\"Model parameters loaded successfully.\")"
   ]
  },
  {
   "cell_type": "markdown",
   "id": "b6133457-eeae-4217-9c06-949e55c72aa8",
   "metadata": {},
   "source": [
    "If we use the variational principle directly, we will get the ground state back. However, we can use Grahm-Schmidt orthogonalization to create a state orthogonal to the ground state. Since Quantum Harmonic oscillator has a unique ground state, applying the variational principle on the state orthogonal to ground state will give us the next lowest eigenstate i.e. the first excited state."
   ]
  },
  {
   "cell_type": "code",
   "execution_count": 43,
   "id": "c7da991a-33fd-47a4-abfb-c8e1f14c3345",
   "metadata": {},
   "outputs": [],
   "source": [
    "#This function is again our loss function and calculates the expected energy of the state after it is made orthogonal to the ground state.\n",
    "w = 2.0\n",
    "def energy_excited1(x,model_excited): \n",
    "    u_exc_crude = model_excited(x)\n",
    "    cosine = ((torch.sum(u_exc_crude*u_g))/(torch.sum(u_g**2))) # This is the component of u_g that needs to be subtracted from u_exc_crude.\n",
    "    u_exc = u_exc_crude - cosine*u_g  # This is doing the Grahm-Schmidt orthogonalization.\n",
    "    grads = torch.autograd.grad(u_exc_crude, x, grad_outputs=torch.ones_like(u_exc_crude), create_graph=True)[0]\n",
    "    u_x_grads = torch.autograd.grad(grads, x, grad_outputs=torch.ones_like(u_exc_crude), create_graph=True)[0]\n",
    "    u_xx = u_x_grads[:,0]\n",
    "    x1 = x.reshape(-1)\n",
    "    u_xx_exc = u_xx - cosine*u_g_xx\n",
    "    u_exc_shaped = u_exc.reshape(-1)\n",
    "    return torch.sum((-u_xx_exc*u_exc_shaped+(w**2)*(x1**2)*(u_exc_shaped**2)))*dx"
   ]
  },
  {
   "cell_type": "code",
   "execution_count": 45,
   "id": "a36d0404-6888-4d9b-9a76-f7765a2cd832",
   "metadata": {},
   "outputs": [],
   "source": [
    "def normalize(x,model_excited): #This function ensures that the state after orthogonalization is normalized to 1.\n",
    "    u_exc_crude = model_excited(x)\n",
    "    cosine = ((torch.sum(u_exc_crude*u_g))/(torch.sum(u_g**2)))\n",
    "    u_exc = u_exc_crude - cosine*u_g\n",
    "    return 1000*((torch.sum(u_exc**2)*dx - torch.tensor(1.0))**2)"
   ]
  },
  {
   "cell_type": "code",
   "execution_count": 47,
   "id": "292ba26e-8fb5-49d5-a49b-fc7f32419da1",
   "metadata": {},
   "outputs": [],
   "source": [
    "eta = 0.001\n",
    "optimizer2 = optim.Adam(list(model_excited.parameters()), lr=eta)"
   ]
  },
  {
   "cell_type": "code",
   "execution_count": null,
   "id": "2e2a46f1-5dce-471a-8a1c-c248738b20e1",
   "metadata": {},
   "outputs": [],
   "source": [
    "for epoch in range(10000):\n",
    "    E_loss = energy_excited1(x,model_excited)\n",
    "    norm_loss = normalize(x,model_excited)         \n",
    "    optimizer2.zero_grad()\n",
    "    Loss_total = E_loss + norm_loss\n",
    "    #Loss_total = norm_loss\n",
    "\n",
    "    # Step 3: Backpropagate to compute gradients\n",
    "    Loss_total.backward()\n",
    "    \n",
    "    # Step 4: Perform the gradient descent step\n",
    "    optimizer2.step()\n",
    "    \n",
    "    if epoch%100==99:\n",
    "        print(f\"epochs:{epoch+1} , Loss:{Loss_total}\")"
   ]
  },
  {
   "cell_type": "code",
   "execution_count": 49,
   "id": "2192f4f1-1e36-4def-b582-43ef727e61cd",
   "metadata": {},
   "outputs": [],
   "source": [
    "u_exc_crude = model_excited(x)\n",
    "u_exc = u_exc_crude - ((torch.sum(u_exc_crude*u_g))/(torch.sum(u_g**2)))*u_ground\n",
    "torch.sum(u_exc**2)*dx\n",
    "x1 = x.reshape(-1)"
   ]
  },
  {
   "cell_type": "code",
   "execution_count": 51,
   "id": "7b617146-ffa6-4615-a1e0-b79b2a6a0aca",
   "metadata": {},
   "outputs": [
    {
     "data": {
      "text/plain": [
       "tensor(6.0013, device='cuda:0', grad_fn=<DivBackward0>)"
      ]
     },
     "execution_count": 51,
     "metadata": {},
     "output_type": "execute_result"
    }
   ],
   "source": [
    "energy_excited1(x,model_excited)/(torch.sum(u_exc**2)*dx)"
   ]
  },
  {
   "cell_type": "code",
   "execution_count": 53,
   "id": "0df8a094-fb89-42f7-9ee8-195d099a0c47",
   "metadata": {},
   "outputs": [],
   "source": [
    "# Assuming u_pred is already converted to a numpy array\n",
    "u_plot_excited = u_exc.reshape(-1).clone().detach().cpu().numpy()\n",
    "\n",
    "# Create x_array\n",
    "x_array = np.linspace(x_min, x_max, N)\n"
   ]
  },
  {
   "cell_type": "code",
   "execution_count": 315,
   "id": "db2e4c04-669d-42e6-8708-ff6c5bb033a9",
   "metadata": {},
   "outputs": [
    {
     "data": {
      "image/png": "[encoded data removed]",
      "text/plain": [
       "<Figure size 1200x600 with 1 Axes>"
      ]
     },
     "metadata": {},
     "output_type": "display_data"
    },
    {
     "data": {
      "text/plain": [
       "<Figure size 640x480 with 0 Axes>"
      ]
     },
     "metadata": {},
     "output_type": "display_data"
    }
   ],
   "source": [
    "n = 1        # Quantum number\n",
    "\n",
    "# Calculate psi_n(x) for the given n\n",
    "wavefunction_1 = psi_n(X, n, m, omega, hbar)\n",
    "\n",
    "# Optional: Plotting\n",
    "import matplotlib.pyplot as plt\n",
    "plt.figure(figsize=(12, 6))\n",
    "\n",
    "plt.plot(X, wavefunction_1, label=\"Actual\")\n",
    "plt.plot(X, u_plot_excited, label=\"Neural Network Prediction\",linestyle='--')\n",
    "\n",
    "plt.title(\"Quantum Harmonic Oscillator - 1st Excited State\")\n",
    "plt.xlabel(\"x\")\n",
    "plt.ylabel(f\"$\\psi_{n}(x)$\")\n",
    "plt.legend()\n",
    "plt.grid()\n",
    "plt.show()\n",
    "plt.savefig(\"quantum_harmonic_oscillator_excited1_state.png\", dpi=300, bbox_inches='tight')\n"
   ]
  },
  {
   "cell_type": "code",
   "execution_count": 84,
   "id": "53543c3c-a80a-405c-89e7-8940666632da",
   "metadata": {},
   "outputs": [
    {
     "name": "stdout",
     "output_type": "stream",
     "text": [
      "Model parameters saved to nnqs_excited1_state.pth\n"
     ]
    }
   ],
   "source": [
    "#After training, we should save the model parameters.\n",
    "# Specify the path to save the model parameters\n",
    "model_save_path_excited1 = \"nnqs_excited1_state.pth\"\n",
    "\n",
    "# Save the model's state dictionary\n",
    "torch.save(model_excited.state_dict(), model_save_path_excited1)\n",
    "\n",
    "print(f\"Model parameters saved to {model_save_path_excited1}\")\n"
   ]
  },
  {
   "cell_type": "code",
   "execution_count": 59,
   "id": "90ae61d8-9ad8-487b-9a73-b1c49fd79268",
   "metadata": {},
   "outputs": [
    {
     "data": {
      "text/plain": [
       "tensor([[-1.1394e-04],\n",
       "        [-1.1384e-04],\n",
       "        [-1.1374e-04],\n",
       "        ...,\n",
       "        [-6.0553e-05],\n",
       "        [-6.0647e-05],\n",
       "        [-6.0741e-05]], device='cuda:0')"
      ]
     },
     "execution_count": 59,
     "metadata": {},
     "output_type": "execute_result"
    }
   ],
   "source": [
    "#After we train the model, we save the excited states by detaching them to the computational graph for subsequent use.\n",
    "u_exc_crude = model_excited(x)\n",
    "cosine1 = ((torch.sum(u_exc_crude*u_g))/(torch.sum(u_g**2)))\n",
    "u_exc = u_exc_crude - cosine1*u_g\n",
    "u_exc1 = u_exc.clone().detach() #This will be our saved first excited state for future use. This is detached since it doesn;t require training.\n",
    "\n",
    "grads = torch.autograd.grad(u_exc_crude, x, grad_outputs=torch.ones_like(u_exc_crude), create_graph=True)[0]\n",
    "u_x_grads = torch.autograd.grad(grads, x, grad_outputs=torch.ones_like(u_exc_crude), create_graph=True)[0]\n",
    "u_xx = u_x_grads[:,0]\n",
    "x1 = x.reshape(-1)\n",
    "u_xx_exc = u_xx - cosine1*u_g_xx\n",
    "u_xx_exc1 = u_xx_exc.clone().detach()\n",
    "u_exc1"
   ]
  },
  {
   "cell_type": "markdown",
   "id": "2df56161-cb59-41dc-8841-c91ec96cac62",
   "metadata": {},
   "source": [
    "# 2nd Excited State"
   ]
  },
  {
   "cell_type": "code",
   "execution_count": 226,
   "id": "f45e386c-abcb-47f9-b427-eaa9f9e23e1d",
   "metadata": {},
   "outputs": [],
   "source": [
    "model_excited2 = NNQS().to(device)"
   ]
  },
  {
   "cell_type": "code",
   "execution_count": 228,
   "id": "8111638e-ba67-44df-b977-1942801b3b23",
   "metadata": {},
   "outputs": [],
   "source": [
    "w = 2.0\n",
    "def energy_excited2(x,model_excited2): # This function calculates the expected value of energy of the second excited state.\n",
    "    # We first project out the components of the ground and excited states from the neural network state and then apply the variational principle.\n",
    "    u_exc2_crude = model_excited2(x)\n",
    "    cosine20 = ((torch.sum(u_exc2_crude*u_g))/(torch.sum(u_g**2)))\n",
    "    cosine21 = ((torch.sum(u_exc2_crude*u_exc1))/(torch.sum(u_exc1**2)))\n",
    "    u_exc2 = u_exc2_crude - cosine20*u_g - cosine21*u_exc1\n",
    "    grads = torch.autograd.grad(u_exc2_crude, x, grad_outputs=torch.ones_like(u_exc2_crude), create_graph=True)[0]\n",
    "    u_x_grads = torch.autograd.grad(grads, x, grad_outputs=torch.ones_like(u_exc2_crude), create_graph=True)[0]\n",
    "    u_xx = u_x_grads[:,0]\n",
    "    x1 = x.reshape(-1)\n",
    "    u_xx_exc2 = u_xx - cosine20*u_g_xx - cosine21*u_xx_exc1\n",
    "    u_exc2_shaped = u_exc2.reshape(-1)\n",
    "    return torch.sum((-u_xx_exc2*u_exc2_shaped+(w**2)*(x1**2)*(u_exc2_shaped**2)))*dx"
   ]
  },
  {
   "cell_type": "code",
   "execution_count": 230,
   "id": "aba12c27-1ded-4cd2-94f2-f5c622e901c8",
   "metadata": {},
   "outputs": [],
   "source": [
    "def normalize2(x,model_excited2):\n",
    "    u_exc2_crude = model_excited2(x)\n",
    "    cosine20 = ((torch.sum(u_exc2_crude*u_g))/(torch.sum(u_g**2)))\n",
    "    cosine21 = ((torch.sum(u_exc2_crude*u_exc1))/(torch.sum(u_exc1**2)))\n",
    "    u_exc2 = u_exc2_crude - cosine20*u_g - cosine21*u_exc1\n",
    "    return 10000*((torch.sum(u_exc2**2)*dx -  torch.tensor(1.0))**2)"
   ]
  },
  {
   "cell_type": "code",
   "execution_count": 293,
   "id": "320f8037-232a-477f-96a3-b6d9f8b1e1e2",
   "metadata": {},
   "outputs": [],
   "source": [
    "eta = 0.00001\n",
    "optimizer3 = optim.Adam(list(model_excited2.parameters()), lr=eta)"
   ]
  },
  {
   "cell_type": "code",
   "execution_count": 303,
   "id": "47d06685-c3c1-494b-a7f4-0f8bbb9adf93",
   "metadata": {},
   "outputs": [
    {
     "name": "stdout",
     "output_type": "stream",
     "text": [
      "epochs:100 , Loss:10.016257286071777\n",
      "epochs:200 , Loss:10.016220092773438\n",
      "epochs:300 , Loss:10.01618480682373\n",
      "epochs:400 , Loss:10.016148567199707\n",
      "epochs:500 , Loss:10.01610279083252\n",
      "epochs:600 , Loss:10.016064643859863\n",
      "epochs:700 , Loss:10.016034126281738\n",
      "epochs:800 , Loss:10.015983581542969\n",
      "epochs:900 , Loss:10.015946388244629\n",
      "epochs:1000 , Loss:10.015957832336426\n",
      "epochs:1100 , Loss:10.015872955322266\n",
      "epochs:1200 , Loss:10.015843391418457\n",
      "epochs:1300 , Loss:10.015799522399902\n",
      "epochs:1400 , Loss:10.015765190124512\n",
      "epochs:1500 , Loss:10.015726089477539\n",
      "epochs:1600 , Loss:10.015750885009766\n",
      "epochs:1700 , Loss:10.015657424926758\n",
      "epochs:1800 , Loss:10.01562213897705\n",
      "epochs:1900 , Loss:10.01558780670166\n",
      "epochs:2000 , Loss:10.015552520751953\n",
      "epochs:2100 , Loss:10.015520095825195\n",
      "epochs:2200 , Loss:10.015480041503906\n",
      "epochs:2300 , Loss:10.015450477600098\n",
      "epochs:2400 , Loss:10.015412330627441\n",
      "epochs:2500 , Loss:10.015382766723633\n",
      "epochs:2600 , Loss:10.015340805053711\n",
      "epochs:2700 , Loss:10.015308380126953\n",
      "epochs:2800 , Loss:10.015271186828613\n",
      "epochs:2900 , Loss:10.015233993530273\n",
      "epochs:3000 , Loss:10.015205383300781\n",
      "epochs:3100 , Loss:10.015172958374023\n",
      "epochs:3200 , Loss:10.015140533447266\n",
      "epochs:3300 , Loss:10.015108108520508\n",
      "epochs:3400 , Loss:10.015076637268066\n",
      "epochs:3500 , Loss:10.015043258666992\n",
      "epochs:3600 , Loss:10.015104293823242\n",
      "epochs:3700 , Loss:10.01497745513916\n",
      "epochs:3800 , Loss:10.014946937561035\n",
      "epochs:3900 , Loss:10.014915466308594\n",
      "epochs:4000 , Loss:10.014887809753418\n",
      "epochs:4100 , Loss:10.014870643615723\n",
      "epochs:4200 , Loss:10.01482105255127\n",
      "epochs:4300 , Loss:10.014791488647461\n",
      "epochs:4400 , Loss:10.014764785766602\n",
      "epochs:4500 , Loss:10.014730453491211\n",
      "epochs:4600 , Loss:10.014768600463867\n",
      "epochs:4700 , Loss:10.014664649963379\n",
      "epochs:4800 , Loss:10.014633178710938\n",
      "epochs:4900 , Loss:10.014609336853027\n",
      "epochs:5000 , Loss:10.014570236206055\n",
      "epochs:5100 , Loss:10.014541625976562\n",
      "epochs:5200 , Loss:10.014512062072754\n",
      "epochs:5300 , Loss:10.014485359191895\n",
      "epochs:5400 , Loss:10.014450073242188\n",
      "epochs:5500 , Loss:10.014424324035645\n",
      "epochs:5600 , Loss:10.014479637145996\n",
      "epochs:5700 , Loss:10.014364242553711\n",
      "epochs:5800 , Loss:10.014336585998535\n",
      "epochs:5900 , Loss:10.01431655883789\n",
      "epochs:6000 , Loss:10.01427936553955\n",
      "epochs:6100 , Loss:10.014250755310059\n",
      "epochs:6200 , Loss:10.014226913452148\n",
      "epochs:6300 , Loss:10.014193534851074\n",
      "epochs:6400 , Loss:10.014174461364746\n",
      "epochs:6500 , Loss:10.01413631439209\n",
      "epochs:6600 , Loss:10.014108657836914\n",
      "epochs:6700 , Loss:10.014080047607422\n",
      "epochs:6800 , Loss:10.014056205749512\n",
      "epochs:6900 , Loss:10.01402473449707\n",
      "epochs:7000 , Loss:10.013995170593262\n",
      "epochs:7100 , Loss:10.013969421386719\n",
      "epochs:7200 , Loss:10.013940811157227\n",
      "epochs:7300 , Loss:10.01391315460205\n",
      "epochs:7400 , Loss:10.013884544372559\n",
      "epochs:7500 , Loss:10.013858795166016\n",
      "epochs:7600 , Loss:10.013829231262207\n",
      "epochs:7700 , Loss:10.013802528381348\n",
      "epochs:7800 , Loss:10.013775825500488\n",
      "epochs:7900 , Loss:10.013748168945312\n",
      "epochs:8000 , Loss:10.01372241973877\n",
      "epochs:8100 , Loss:10.013694763183594\n",
      "epochs:8200 , Loss:10.013666152954102\n",
      "epochs:8300 , Loss:10.013641357421875\n",
      "epochs:8400 , Loss:10.0136137008667\n",
      "epochs:8500 , Loss:10.013590812683105\n",
      "epochs:8600 , Loss:10.013561248779297\n",
      "epochs:8700 , Loss:10.013533592224121\n",
      "epochs:8800 , Loss:10.013513565063477\n",
      "epochs:8900 , Loss:10.013484001159668\n",
      "epochs:9000 , Loss:10.013458251953125\n",
      "epochs:9100 , Loss:10.013429641723633\n",
      "epochs:9200 , Loss:10.013404846191406\n",
      "epochs:9300 , Loss:10.01337718963623\n",
      "epochs:9400 , Loss:10.013355255126953\n",
      "epochs:9500 , Loss:10.013324737548828\n",
      "epochs:9600 , Loss:10.013306617736816\n",
      "epochs:9700 , Loss:10.01327896118164\n",
      "epochs:9800 , Loss:10.01329517364502\n",
      "epochs:9900 , Loss:10.013223648071289\n",
      "epochs:10000 , Loss:10.013195991516113\n",
      "epochs:10100 , Loss:10.013167381286621\n",
      "epochs:10200 , Loss:10.013141632080078\n",
      "epochs:10300 , Loss:10.013121604919434\n",
      "epochs:10400 , Loss:10.013090133666992\n",
      "epochs:10500 , Loss:10.013067245483398\n",
      "epochs:10600 , Loss:10.013040542602539\n",
      "epochs:10700 , Loss:10.013012886047363\n",
      "epochs:10800 , Loss:10.012990951538086\n",
      "epochs:10900 , Loss:10.012962341308594\n",
      "epochs:11000 , Loss:10.012941360473633\n",
      "epochs:11100 , Loss:10.012914657592773\n",
      "epochs:11200 , Loss:10.012887001037598\n",
      "epochs:11300 , Loss:10.012859344482422\n",
      "epochs:11400 , Loss:10.012829780578613\n",
      "epochs:11500 , Loss:10.012805938720703\n",
      "epochs:11600 , Loss:10.012779235839844\n",
      "epochs:11700 , Loss:10.0127534866333\n",
      "epochs:11800 , Loss:10.012731552124023\n",
      "epochs:11900 , Loss:10.012710571289062\n",
      "epochs:12000 , Loss:10.012675285339355\n",
      "epochs:12100 , Loss:10.012649536132812\n",
      "epochs:12200 , Loss:10.012624740600586\n",
      "epochs:12300 , Loss:10.012603759765625\n",
      "epochs:12400 , Loss:10.012574195861816\n",
      "epochs:12500 , Loss:10.012544631958008\n",
      "epochs:12600 , Loss:10.012517929077148\n",
      "epochs:12700 , Loss:10.012495994567871\n",
      "epochs:12800 , Loss:10.012463569641113\n",
      "epochs:12900 , Loss:10.01243782043457\n",
      "epochs:13000 , Loss:10.012411117553711\n",
      "epochs:13100 , Loss:10.012383460998535\n",
      "epochs:13200 , Loss:10.012358665466309\n",
      "epochs:13300 , Loss:10.0123291015625\n",
      "epochs:13400 , Loss:10.012303352355957\n",
      "epochs:13500 , Loss:10.012276649475098\n",
      "epochs:13600 , Loss:10.012248992919922\n",
      "epochs:13700 , Loss:10.012224197387695\n",
      "epochs:13800 , Loss:10.012192726135254\n",
      "epochs:13900 , Loss:10.012167930603027\n",
      "epochs:14000 , Loss:10.012138366699219\n",
      "epochs:14100 , Loss:10.012110710144043\n",
      "epochs:14200 , Loss:10.012084007263184\n",
      "epochs:14300 , Loss:10.012054443359375\n",
      "epochs:14400 , Loss:10.012033462524414\n",
      "epochs:14500 , Loss:10.011998176574707\n",
      "epochs:14600 , Loss:10.011968612670898\n",
      "epochs:14700 , Loss:10.011947631835938\n",
      "epochs:14800 , Loss:10.011916160583496\n",
      "epochs:14900 , Loss:10.011879920959473\n",
      "epochs:15000 , Loss:10.01185131072998\n",
      "epochs:15100 , Loss:10.011823654174805\n",
      "epochs:15200 , Loss:10.011795043945312\n",
      "epochs:15300 , Loss:10.011762619018555\n",
      "epochs:15400 , Loss:10.011741638183594\n",
      "epochs:15500 , Loss:10.011703491210938\n",
      "epochs:15600 , Loss:10.011673927307129\n",
      "epochs:15700 , Loss:10.011640548706055\n",
      "epochs:15800 , Loss:10.011610984802246\n",
      "epochs:15900 , Loss:10.011580467224121\n",
      "epochs:16000 , Loss:10.01154899597168\n",
      "epochs:16100 , Loss:10.011524200439453\n",
      "epochs:16200 , Loss:10.011484146118164\n",
      "epochs:16300 , Loss:10.011448860168457\n",
      "epochs:16400 , Loss:10.011417388916016\n",
      "epochs:16500 , Loss:10.011382102966309\n",
      "epochs:16600 , Loss:10.01134967803955\n",
      "epochs:16700 , Loss:10.01131820678711\n",
      "epochs:16800 , Loss:10.01128101348877\n",
      "epochs:16900 , Loss:10.011244773864746\n",
      "epochs:17000 , Loss:10.011207580566406\n",
      "epochs:17100 , Loss:10.011171340942383\n",
      "epochs:17200 , Loss:10.01113510131836\n",
      "epochs:17300 , Loss:10.011099815368652\n",
      "epochs:17400 , Loss:10.011062622070312\n",
      "epochs:17500 , Loss:10.011025428771973\n",
      "epochs:17600 , Loss:10.010988235473633\n",
      "epochs:17700 , Loss:10.010950088500977\n",
      "epochs:17800 , Loss:10.010912895202637\n",
      "epochs:17900 , Loss:10.010880470275879\n",
      "epochs:18000 , Loss:10.010832786560059\n",
      "epochs:18100 , Loss:10.010793685913086\n",
      "epochs:18200 , Loss:10.010764122009277\n",
      "epochs:18300 , Loss:10.010710716247559\n",
      "epochs:18400 , Loss:10.010668754577637\n",
      "epochs:18500 , Loss:10.010624885559082\n",
      "epochs:18600 , Loss:10.010600090026855\n",
      "epochs:18700 , Loss:10.010540962219238\n",
      "epochs:18800 , Loss:10.010494232177734\n",
      "epochs:18900 , Loss:10.010454177856445\n",
      "epochs:19000 , Loss:10.01040267944336\n",
      "epochs:19100 , Loss:10.010355949401855\n",
      "epochs:19200 , Loss:10.010360717773438\n",
      "epochs:19300 , Loss:10.010263442993164\n",
      "epochs:19400 , Loss:10.010213851928711\n",
      "epochs:19500 , Loss:10.01016902923584\n",
      "epochs:19600 , Loss:10.01011848449707\n",
      "epochs:19700 , Loss:10.010066032409668\n",
      "epochs:19800 , Loss:10.010016441345215\n",
      "epochs:19900 , Loss:10.009966850280762\n",
      "epochs:20000 , Loss:10.009918212890625\n",
      "epochs:20100 , Loss:10.009859085083008\n",
      "epochs:20200 , Loss:10.009810447692871\n",
      "epochs:20300 , Loss:10.009748458862305\n",
      "epochs:20400 , Loss:10.0097074508667\n",
      "epochs:20500 , Loss:10.009636878967285\n",
      "epochs:20600 , Loss:10.009613037109375\n",
      "epochs:20700 , Loss:10.009544372558594\n",
      "epochs:20800 , Loss:10.009476661682129\n",
      "epochs:20900 , Loss:10.009407043457031\n",
      "epochs:21000 , Loss:10.009345054626465\n",
      "epochs:21100 , Loss:10.009284973144531\n",
      "epochs:21200 , Loss:10.009234428405762\n",
      "epochs:21300 , Loss:10.009162902832031\n",
      "epochs:21400 , Loss:10.009138107299805\n",
      "epochs:21500 , Loss:10.009038925170898\n",
      "epochs:21600 , Loss:10.008975982666016\n",
      "epochs:21700 , Loss:10.008913040161133\n",
      "epochs:21800 , Loss:10.008846282958984\n",
      "epochs:21900 , Loss:10.008783340454102\n",
      "epochs:22000 , Loss:10.008719444274902\n",
      "epochs:22100 , Loss:10.008697509765625\n",
      "epochs:22200 , Loss:10.008588790893555\n",
      "epochs:22300 , Loss:10.00851821899414\n",
      "epochs:22400 , Loss:10.008456230163574\n",
      "epochs:22500 , Loss:10.00838565826416\n",
      "epochs:22600 , Loss:10.008329391479492\n",
      "epochs:22700 , Loss:10.008257865905762\n",
      "epochs:22800 , Loss:10.008193016052246\n",
      "epochs:22900 , Loss:10.008142471313477\n",
      "epochs:23000 , Loss:10.00805377960205\n",
      "epochs:23100 , Loss:10.007989883422852\n",
      "epochs:23200 , Loss:10.007923126220703\n",
      "epochs:23300 , Loss:10.00786304473877\n",
      "epochs:23400 , Loss:10.007791519165039\n",
      "epochs:23500 , Loss:10.007728576660156\n",
      "epochs:23600 , Loss:10.00766372680664\n",
      "epochs:23700 , Loss:10.00761604309082\n",
      "epochs:23800 , Loss:10.00755500793457\n",
      "epochs:23900 , Loss:10.007481575012207\n",
      "epochs:24000 , Loss:10.007431030273438\n",
      "epochs:24100 , Loss:10.007360458374023\n",
      "epochs:24200 , Loss:10.007307052612305\n",
      "epochs:24300 , Loss:10.007262229919434\n",
      "epochs:24400 , Loss:10.007189750671387\n",
      "epochs:24500 , Loss:10.007134437561035\n",
      "epochs:24600 , Loss:10.007084846496582\n",
      "epochs:24700 , Loss:10.00703239440918\n",
      "epochs:24800 , Loss:10.006980895996094\n",
      "epochs:24900 , Loss:10.006930351257324\n",
      "epochs:25000 , Loss:10.00688362121582\n",
      "epochs:25100 , Loss:10.006834983825684\n",
      "epochs:25200 , Loss:10.006789207458496\n",
      "epochs:25300 , Loss:10.006754875183105\n",
      "epochs:25400 , Loss:10.006706237792969\n",
      "epochs:25500 , Loss:10.00666332244873\n",
      "epochs:25600 , Loss:10.006624221801758\n",
      "epochs:25700 , Loss:10.006584167480469\n",
      "epochs:25800 , Loss:10.006552696228027\n",
      "epochs:25900 , Loss:10.006528854370117\n",
      "epochs:26000 , Loss:10.006490707397461\n",
      "epochs:26100 , Loss:10.006444931030273\n",
      "epochs:26200 , Loss:10.0064115524292\n",
      "epochs:26300 , Loss:10.006382942199707\n",
      "epochs:26400 , Loss:10.006353378295898\n",
      "epochs:26500 , Loss:10.006369590759277\n",
      "epochs:26600 , Loss:10.006304740905762\n",
      "epochs:26700 , Loss:10.006274223327637\n",
      "epochs:26800 , Loss:10.006247520446777\n",
      "epochs:26900 , Loss:10.006219863891602\n",
      "epochs:27000 , Loss:10.006206512451172\n",
      "epochs:27100 , Loss:10.00617790222168\n",
      "epochs:27200 , Loss:10.006152153015137\n",
      "epochs:27300 , Loss:10.00613021850586\n",
      "epochs:27400 , Loss:10.006112098693848\n",
      "epochs:27500 , Loss:10.006091117858887\n",
      "epochs:27600 , Loss:10.006088256835938\n",
      "epochs:27700 , Loss:10.00605297088623\n",
      "epochs:27800 , Loss:10.006036758422852\n",
      "epochs:27900 , Loss:10.006016731262207\n",
      "epochs:28000 , Loss:10.006001472473145\n",
      "epochs:28100 , Loss:10.005987167358398\n",
      "epochs:28200 , Loss:10.005969047546387\n",
      "epochs:28300 , Loss:10.005962371826172\n",
      "epochs:28400 , Loss:10.005942344665527\n",
      "epochs:28500 , Loss:10.005928039550781\n",
      "epochs:28600 , Loss:10.005912780761719\n",
      "epochs:28700 , Loss:10.005901336669922\n",
      "epochs:28800 , Loss:10.005887031555176\n",
      "epochs:28900 , Loss:10.005875587463379\n",
      "epochs:29000 , Loss:10.00588321685791\n",
      "epochs:29100 , Loss:10.005850791931152\n",
      "epochs:29200 , Loss:10.005838394165039\n",
      "epochs:29300 , Loss:10.005827903747559\n",
      "epochs:29400 , Loss:10.005818367004395\n",
      "epochs:29500 , Loss:10.005806922912598\n",
      "epochs:29600 , Loss:10.005800247192383\n",
      "epochs:29700 , Loss:10.005786895751953\n",
      "epochs:29800 , Loss:10.005778312683105\n",
      "epochs:29900 , Loss:10.005766868591309\n",
      "epochs:30000 , Loss:10.005756378173828\n",
      "epochs:30100 , Loss:10.00574779510498\n",
      "epochs:30200 , Loss:10.00574016571045\n",
      "epochs:30300 , Loss:10.005743980407715\n",
      "epochs:30400 , Loss:10.005724906921387\n",
      "epochs:30500 , Loss:10.005714416503906\n",
      "epochs:30600 , Loss:10.005707740783691\n",
      "epochs:30700 , Loss:10.005699157714844\n",
      "epochs:30800 , Loss:10.005690574645996\n",
      "epochs:30900 , Loss:10.005681991577148\n",
      "epochs:31000 , Loss:10.005717277526855\n",
      "epochs:31100 , Loss:10.005675315856934\n",
      "epochs:31200 , Loss:10.005661010742188\n",
      "epochs:31300 , Loss:10.005654335021973\n",
      "epochs:31400 , Loss:10.005650520324707\n",
      "epochs:31500 , Loss:10.00564193725586\n",
      "epochs:31600 , Loss:10.005632400512695\n",
      "epochs:31700 , Loss:10.005626678466797\n",
      "epochs:31800 , Loss:10.005621910095215\n",
      "epochs:31900 , Loss:10.005614280700684\n",
      "epochs:32000 , Loss:10.005611419677734\n",
      "epochs:32100 , Loss:10.005602836608887\n",
      "epochs:32200 , Loss:10.005595207214355\n",
      "epochs:32300 , Loss:10.00563907623291\n",
      "epochs:32400 , Loss:10.005584716796875\n",
      "epochs:32500 , Loss:10.005577087402344\n",
      "epochs:32600 , Loss:10.005573272705078\n",
      "epochs:32700 , Loss:10.005572319030762\n",
      "epochs:32800 , Loss:10.005561828613281\n",
      "epochs:32900 , Loss:10.0055570602417\n",
      "epochs:33000 , Loss:10.005552291870117\n",
      "epochs:33100 , Loss:10.005545616149902\n",
      "epochs:33200 , Loss:10.005548477172852\n",
      "epochs:33300 , Loss:10.005536079406738\n",
      "epochs:33400 , Loss:10.005553245544434\n",
      "epochs:33500 , Loss:10.005531311035156\n",
      "epochs:33600 , Loss:10.005524635314941\n",
      "epochs:33700 , Loss:10.005517959594727\n",
      "epochs:33800 , Loss:10.00551700592041\n",
      "epochs:33900 , Loss:10.005507469177246\n",
      "epochs:34000 , Loss:10.005504608154297\n",
      "epochs:34100 , Loss:10.005500793457031\n",
      "epochs:34200 , Loss:10.005494117736816\n",
      "epochs:34300 , Loss:10.00549030303955\n",
      "epochs:34400 , Loss:10.005484580993652\n",
      "epochs:34500 , Loss:10.005480766296387\n",
      "epochs:34600 , Loss:10.005476951599121\n",
      "epochs:34700 , Loss:10.005516052246094\n",
      "epochs:34800 , Loss:10.005468368530273\n",
      "epochs:34900 , Loss:10.00546646118164\n",
      "epochs:35000 , Loss:10.005461692810059\n",
      "epochs:35100 , Loss:10.005457878112793\n",
      "epochs:35200 , Loss:10.005454063415527\n",
      "epochs:35300 , Loss:10.005449295043945\n",
      "epochs:35400 , Loss:10.005446434020996\n",
      "epochs:35500 , Loss:10.005440711975098\n",
      "epochs:35600 , Loss:10.005436897277832\n",
      "epochs:35700 , Loss:10.005433082580566\n",
      "epochs:35800 , Loss:10.005775451660156\n",
      "epochs:35900 , Loss:10.005426406860352\n",
      "epochs:36000 , Loss:10.005423545837402\n",
      "epochs:36100 , Loss:10.005420684814453\n",
      "epochs:36200 , Loss:10.005426406860352\n",
      "epochs:36300 , Loss:10.005412101745605\n",
      "epochs:36400 , Loss:10.005415916442871\n",
      "epochs:36500 , Loss:10.005406379699707\n",
      "epochs:36600 , Loss:10.005403518676758\n",
      "epochs:36700 , Loss:10.005398750305176\n",
      "epochs:36800 , Loss:10.00539493560791\n",
      "epochs:36900 , Loss:10.005393028259277\n",
      "epochs:37000 , Loss:10.005390167236328\n",
      "epochs:37100 , Loss:10.005386352539062\n",
      "epochs:37200 , Loss:10.005383491516113\n",
      "epochs:37300 , Loss:10.005378723144531\n",
      "epochs:37400 , Loss:10.005375862121582\n",
      "epochs:37500 , Loss:10.005374908447266\n",
      "epochs:37600 , Loss:10.005369186401367\n",
      "epochs:37700 , Loss:10.00536823272705\n",
      "epochs:37800 , Loss:10.005364418029785\n",
      "epochs:37900 , Loss:10.005361557006836\n",
      "epochs:38000 , Loss:10.005359649658203\n",
      "epochs:38100 , Loss:10.005356788635254\n",
      "epochs:38200 , Loss:10.005351066589355\n",
      "epochs:38300 , Loss:10.005349159240723\n",
      "epochs:38400 , Loss:10.005345344543457\n",
      "epochs:38500 , Loss:10.005346298217773\n",
      "epochs:38600 , Loss:10.005340576171875\n",
      "epochs:38700 , Loss:10.005334854125977\n",
      "epochs:38800 , Loss:10.005339622497559\n",
      "epochs:38900 , Loss:10.005337715148926\n",
      "epochs:39000 , Loss:10.005330085754395\n",
      "epochs:39100 , Loss:10.005325317382812\n",
      "epochs:39200 , Loss:10.005324363708496\n",
      "epochs:39300 , Loss:10.005318641662598\n",
      "epochs:39400 , Loss:10.005314826965332\n",
      "epochs:39500 , Loss:10.005311012268066\n",
      "epochs:39600 , Loss:10.00531005859375\n",
      "epochs:39700 , Loss:10.005306243896484\n",
      "epochs:39800 , Loss:10.005301475524902\n",
      "epochs:39900 , Loss:10.0053071975708\n",
      "epochs:40000 , Loss:10.00529670715332\n",
      "epochs:40100 , Loss:10.005292892456055\n",
      "epochs:40200 , Loss:10.005291938781738\n",
      "epochs:40300 , Loss:10.005289077758789\n",
      "epochs:40400 , Loss:10.005285263061523\n",
      "epochs:40500 , Loss:10.005280494689941\n",
      "epochs:40600 , Loss:10.005278587341309\n",
      "epochs:40700 , Loss:10.00527572631836\n",
      "epochs:40800 , Loss:10.00527572631836\n",
      "epochs:40900 , Loss:10.005270957946777\n",
      "epochs:41000 , Loss:10.005268096923828\n",
      "epochs:41100 , Loss:10.005277633666992\n",
      "epochs:41200 , Loss:10.005261421203613\n",
      "epochs:41300 , Loss:10.005258560180664\n",
      "epochs:41400 , Loss:10.005255699157715\n",
      "epochs:41500 , Loss:10.00525188446045\n",
      "epochs:41600 , Loss:10.005250930786133\n",
      "epochs:41700 , Loss:10.005248069763184\n",
      "epochs:41800 , Loss:10.005243301391602\n",
      "epochs:41900 , Loss:10.005244255065918\n",
      "epochs:42000 , Loss:10.005237579345703\n",
      "epochs:42100 , Loss:10.005234718322754\n",
      "epochs:42200 , Loss:10.005234718322754\n",
      "epochs:42300 , Loss:10.005264282226562\n",
      "epochs:42400 , Loss:10.005233764648438\n",
      "epochs:42500 , Loss:10.005223274230957\n",
      "epochs:42600 , Loss:10.005287170410156\n",
      "epochs:42700 , Loss:10.005216598510742\n",
      "epochs:42800 , Loss:10.00521469116211\n",
      "epochs:42900 , Loss:10.005212783813477\n",
      "epochs:43000 , Loss:10.005209922790527\n",
      "epochs:43100 , Loss:10.005205154418945\n",
      "epochs:43200 , Loss:10.005203247070312\n",
      "epochs:43300 , Loss:10.005200386047363\n",
      "epochs:43400 , Loss:10.005197525024414\n",
      "epochs:43500 , Loss:10.005193710327148\n",
      "epochs:43600 , Loss:10.005191802978516\n",
      "epochs:43700 , Loss:10.005188941955566\n",
      "epochs:43800 , Loss:10.005186080932617\n",
      "epochs:43900 , Loss:10.005189895629883\n",
      "epochs:44000 , Loss:10.005181312561035\n",
      "epochs:44100 , Loss:10.005179405212402\n",
      "epochs:44200 , Loss:10.005175590515137\n",
      "epochs:44300 , Loss:10.005172729492188\n",
      "epochs:44400 , Loss:10.005170822143555\n",
      "epochs:44500 , Loss:10.005167007446289\n",
      "epochs:44600 , Loss:10.005173683166504\n",
      "epochs:44700 , Loss:10.005166053771973\n",
      "epochs:44800 , Loss:10.005162239074707\n",
      "epochs:44900 , Loss:10.005157470703125\n",
      "epochs:45000 , Loss:10.00515365600586\n",
      "epochs:45100 , Loss:10.005152702331543\n",
      "epochs:45200 , Loss:10.005354881286621\n",
      "epochs:45300 , Loss:10.005144119262695\n",
      "epochs:45400 , Loss:10.005143165588379\n",
      "epochs:45500 , Loss:10.00514030456543\n",
      "epochs:45600 , Loss:10.00513744354248\n",
      "epochs:45700 , Loss:10.00513744354248\n",
      "epochs:45800 , Loss:10.005132675170898\n",
      "epochs:45900 , Loss:10.00512981414795\n",
      "epochs:46000 , Loss:10.005139350891113\n",
      "epochs:46100 , Loss:10.005123138427734\n",
      "epochs:46200 , Loss:10.005125999450684\n",
      "epochs:46300 , Loss:10.005115509033203\n",
      "epochs:46400 , Loss:10.005114555358887\n",
      "epochs:46500 , Loss:10.005111694335938\n",
      "epochs:46600 , Loss:10.005109786987305\n",
      "epochs:46700 , Loss:10.005106925964355\n",
      "epochs:46800 , Loss:10.005502700805664\n",
      "epochs:46900 , Loss:10.005101203918457\n",
      "epochs:47000 , Loss:10.005099296569824\n",
      "epochs:47100 , Loss:10.005095481872559\n",
      "epochs:47200 , Loss:10.005094528198242\n",
      "epochs:47300 , Loss:10.00509262084961\n",
      "epochs:47400 , Loss:10.00508975982666\n",
      "epochs:47500 , Loss:10.005084037780762\n",
      "epochs:47600 , Loss:10.005082130432129\n",
      "epochs:47700 , Loss:10.005081176757812\n",
      "epochs:47800 , Loss:10.005077362060547\n",
      "epochs:47900 , Loss:10.005072593688965\n",
      "epochs:48000 , Loss:10.005204200744629\n",
      "epochs:48100 , Loss:10.005067825317383\n",
      "epochs:48200 , Loss:10.00507640838623\n",
      "epochs:48300 , Loss:10.005064010620117\n",
      "epochs:48400 , Loss:10.005060195922852\n",
      "epochs:48500 , Loss:10.005058288574219\n",
      "epochs:48600 , Loss:10.00505542755127\n",
      "epochs:48700 , Loss:10.005050659179688\n",
      "epochs:48800 , Loss:10.005538940429688\n",
      "epochs:48900 , Loss:10.005044937133789\n",
      "epochs:49000 , Loss:10.005043029785156\n",
      "epochs:49100 , Loss:10.005040168762207\n",
      "epochs:49200 , Loss:10.005037307739258\n",
      "epochs:49300 , Loss:10.005034446716309\n",
      "epochs:49400 , Loss:10.005030632019043\n",
      "epochs:49500 , Loss:10.005182266235352\n",
      "epochs:49600 , Loss:10.005026817321777\n",
      "epochs:49700 , Loss:10.005024909973145\n",
      "epochs:49800 , Loss:10.005022048950195\n",
      "epochs:49900 , Loss:10.005021095275879\n",
      "epochs:50000 , Loss:10.00501823425293\n"
     ]
    }
   ],
   "source": [
    "for epoch in range(50000):\n",
    "    \n",
    "    E_loss = energy_excited2(x,model_excited2)\n",
    "    norm_loss = normalize2(x,model_excited2)         \n",
    "    optimizer3.zero_grad()\n",
    "    Loss_total = E_loss + norm_loss\n",
    "    #Loss_total = norm_loss\n",
    "\n",
    "    # Step 3: Backpropagate to compute gradients\n",
    "    Loss_total.backward()\n",
    "    \n",
    "    # Step 4: Perform the gradient descent step\n",
    "    optimizer3.step()\n",
    "    \n",
    "    if epoch%100==99:\n",
    "        print(f\"epochs:{epoch+1} , Loss:{Loss_total}\")"
   ]
  },
  {
   "cell_type": "code",
   "execution_count": 305,
   "id": "d3e34f59-9cbd-4c48-a0fb-25825ef4d35d",
   "metadata": {},
   "outputs": [],
   "source": [
    "u_exc2_crude = model_excited2(x)\n",
    "cosine20 = ((torch.sum(u_exc2_crude*u_g))/(torch.sum(u_g**2)))\n",
    "cosine21 = ((torch.sum(u_exc2_crude*u_exc1))/(torch.sum(u_exc1**2)))\n",
    "u_exc2 = u_exc2_crude - cosine20*u_g - cosine21*u_exc1\n",
    "u_exc2_shaped = u_exc2.reshape(-1)"
   ]
  },
  {
   "cell_type": "code",
   "execution_count": 307,
   "id": "8f40f457-8e9d-49a7-a064-7233dc2bd4c0",
   "metadata": {},
   "outputs": [
    {
     "data": {
      "text/plain": [
       "tensor(0.9995, device='cuda:0', grad_fn=<MulBackward0>)"
      ]
     },
     "execution_count": 307,
     "metadata": {},
     "output_type": "execute_result"
    }
   ],
   "source": [
    "torch.sum(u_exc2**2)*dx"
   ]
  },
  {
   "cell_type": "code",
   "execution_count": 317,
   "id": "9f7a1ed4-d1c0-4bb3-836a-452b4b49b879",
   "metadata": {},
   "outputs": [
    {
     "data": {
      "image/png": "[encoded data removed]",
      "text/plain": [
       "<Figure size 1200x600 with 1 Axes>"
      ]
     },
     "metadata": {},
     "output_type": "display_data"
    },
    {
     "data": {
      "text/plain": [
       "<Figure size 640x480 with 0 Axes>"
      ]
     },
     "metadata": {},
     "output_type": "display_data"
    }
   ],
   "source": [
    "X = np.linspace(-10, 10, 20001)  # Position array\n",
    "n = 2        # Quantum number\n",
    "u_plot_excited2 = u_exc2_shaped.clone().detach().cpu().numpy()\n",
    "# Calculate psi_n(x) for the given n\n",
    "wavefunction_2 = psi_n(X, n, m, omega, hbar)\n",
    "\n",
    "# Optional: Plotting\n",
    "import matplotlib.pyplot as plt\n",
    "plt.figure(figsize=(12, 6))\n",
    "\n",
    "plt.plot(X, wavefunction_2, label=\"Actual\")\n",
    "plt.plot(X, u_plot_excited2, label=\"Neural Network Prediction\", linestyle='--')\n",
    "\n",
    "plt.title(\"Quantum Harmonic Oscillator - 2nd Excited State\")\n",
    "plt.xlabel(\"x\")\n",
    "plt.ylabel(f\"$\\psi_{n}(x)$\")\n",
    "plt.legend()\n",
    "plt.grid()\n",
    "plt.show()\n",
    "plt.savefig(\"quantum_harmonic_oscillator_excited2_state.png\", dpi=300, bbox_inches='tight')\n"
   ]
  },
  {
   "cell_type": "code",
   "execution_count": 311,
   "id": "efb9b8d8-e49b-45ff-9556-f367f8ba5b5e",
   "metadata": {},
   "outputs": [
    {
     "name": "stdout",
     "output_type": "stream",
     "text": [
      "Model parameters saved to nnqs_excited2_state.pth\n"
     ]
    }
   ],
   "source": [
    "#After training, we should save the model parameters.\n",
    "# Specify the path to save the model parameters\n",
    "model_save_path2 = \"nnqs_excited2_state.pth\"\n",
    "\n",
    "# Save the model's state dictionary\n",
    "torch.save(model_excited2.state_dict(), model_save_path2)\n",
    "\n",
    "print(f\"Model parameters saved to {model_save_path2}\")\n"
   ]
  },
  {
   "cell_type": "code",
   "execution_count": null,
   "id": "115d2034-ca4f-4d76-96cf-966808c0c451",
   "metadata": {},
   "outputs": [],
   "source": []
  }
 ],
 "metadata": {
  "kernelspec": {
   "display_name": "Python 3 (ipykernel)",
   "language": "python",
   "name": "python3"
  },
  "language_info": {
   "codemirror_mode": {
    "name": "ipython",
    "version": 3
   },
   "file_extension": ".py",
   "mimetype": "text/x-python",
   "name": "python",
   "nbconvert_exporter": "python",
   "pygments_lexer": "ipython3",
   "version": "3.11.7"
  }
 },
 "nbformat": 4,
 "nbformat_minor": 5
}
